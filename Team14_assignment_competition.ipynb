{
 "cells": [
  {
   "cell_type": "markdown",
   "id": "5ae66dc2",
   "metadata": {},
   "source": [
    "The objective of this project is to:"
   ]
  },
  {
   "cell_type": "markdown",
   "id": "6e431605",
   "metadata": {},
   "source": [
    "1.Identify variables that increase the likelihood of a person quitting through exploratory analysis 2.Build a regression model to predict which employees will leave based on these features"
   ]
  },
  {
   "cell_type": "code",
   "execution_count": 135,
   "id": "605eebec",
   "metadata": {},
   "outputs": [],
   "source": [
    "import numpy as np\n",
    "import pandas as pd \n",
    "import seaborn as sns\n",
    "import matplotlib.pyplot as plt"
   ]
  },
  {
   "cell_type": "markdown",
   "id": "87bcecd1",
   "metadata": {},
   "source": [
    "# Import Dataset"
   ]
  },
  {
   "cell_type": "code",
   "execution_count": 136,
   "id": "42a9cd55",
   "metadata": {},
   "outputs": [],
   "source": [
    "data = pd.read_csv('HR_comma_sep.csv')"
   ]
  },
  {
   "cell_type": "code",
   "execution_count": 3,
   "id": "3596811b",
   "metadata": {},
   "outputs": [
    {
     "name": "stdout",
     "output_type": "stream",
     "text": [
      "<class 'pandas.core.frame.DataFrame'>\n",
      "RangeIndex: 14999 entries, 0 to 14998\n",
      "Data columns (total 10 columns):\n",
      " #   Column                 Non-Null Count  Dtype  \n",
      "---  ------                 --------------  -----  \n",
      " 0   satisfaction_level     14999 non-null  float64\n",
      " 1   last_evaluation        14999 non-null  float64\n",
      " 2   number_project         14999 non-null  int64  \n",
      " 3   average_montly_hours   14999 non-null  int64  \n",
      " 4   time_spend_company     14999 non-null  int64  \n",
      " 5   Work_accident          14999 non-null  int64  \n",
      " 6   left                   14999 non-null  int64  \n",
      " 7   promotion_last_5years  14999 non-null  int64  \n",
      " 8   sales                  14999 non-null  object \n",
      " 9   salary                 14999 non-null  object \n",
      "dtypes: float64(2), int64(6), object(2)\n",
      "memory usage: 1.1+ MB\n"
     ]
    }
   ],
   "source": [
    "data.info()"
   ]
  },
  {
   "cell_type": "code",
   "execution_count": 4,
   "id": "001ef75f",
   "metadata": {},
   "outputs": [
    {
     "data": {
      "text/html": [
       "<div>\n",
       "<style scoped>\n",
       "    .dataframe tbody tr th:only-of-type {\n",
       "        vertical-align: middle;\n",
       "    }\n",
       "\n",
       "    .dataframe tbody tr th {\n",
       "        vertical-align: top;\n",
       "    }\n",
       "\n",
       "    .dataframe thead th {\n",
       "        text-align: right;\n",
       "    }\n",
       "</style>\n",
       "<table border=\"1\" class=\"dataframe\">\n",
       "  <thead>\n",
       "    <tr style=\"text-align: right;\">\n",
       "      <th></th>\n",
       "      <th>satisfaction_level</th>\n",
       "      <th>last_evaluation</th>\n",
       "      <th>number_project</th>\n",
       "      <th>average_montly_hours</th>\n",
       "      <th>time_spend_company</th>\n",
       "      <th>Work_accident</th>\n",
       "      <th>left</th>\n",
       "      <th>promotion_last_5years</th>\n",
       "      <th>sales</th>\n",
       "      <th>salary</th>\n",
       "    </tr>\n",
       "  </thead>\n",
       "  <tbody>\n",
       "    <tr>\n",
       "      <th>0</th>\n",
       "      <td>0.38</td>\n",
       "      <td>0.53</td>\n",
       "      <td>2</td>\n",
       "      <td>157</td>\n",
       "      <td>3</td>\n",
       "      <td>0</td>\n",
       "      <td>1</td>\n",
       "      <td>0</td>\n",
       "      <td>sales</td>\n",
       "      <td>low</td>\n",
       "    </tr>\n",
       "    <tr>\n",
       "      <th>1</th>\n",
       "      <td>0.80</td>\n",
       "      <td>0.86</td>\n",
       "      <td>5</td>\n",
       "      <td>262</td>\n",
       "      <td>6</td>\n",
       "      <td>0</td>\n",
       "      <td>1</td>\n",
       "      <td>0</td>\n",
       "      <td>sales</td>\n",
       "      <td>medium</td>\n",
       "    </tr>\n",
       "    <tr>\n",
       "      <th>2</th>\n",
       "      <td>0.11</td>\n",
       "      <td>0.88</td>\n",
       "      <td>7</td>\n",
       "      <td>272</td>\n",
       "      <td>4</td>\n",
       "      <td>0</td>\n",
       "      <td>1</td>\n",
       "      <td>0</td>\n",
       "      <td>sales</td>\n",
       "      <td>medium</td>\n",
       "    </tr>\n",
       "    <tr>\n",
       "      <th>3</th>\n",
       "      <td>0.72</td>\n",
       "      <td>0.87</td>\n",
       "      <td>5</td>\n",
       "      <td>223</td>\n",
       "      <td>5</td>\n",
       "      <td>0</td>\n",
       "      <td>1</td>\n",
       "      <td>0</td>\n",
       "      <td>sales</td>\n",
       "      <td>low</td>\n",
       "    </tr>\n",
       "    <tr>\n",
       "      <th>4</th>\n",
       "      <td>0.37</td>\n",
       "      <td>0.52</td>\n",
       "      <td>2</td>\n",
       "      <td>159</td>\n",
       "      <td>3</td>\n",
       "      <td>0</td>\n",
       "      <td>1</td>\n",
       "      <td>0</td>\n",
       "      <td>sales</td>\n",
       "      <td>low</td>\n",
       "    </tr>\n",
       "  </tbody>\n",
       "</table>\n",
       "</div>"
      ],
      "text/plain": [
       "   satisfaction_level  last_evaluation  number_project  average_montly_hours  \\\n",
       "0                0.38             0.53               2                   157   \n",
       "1                0.80             0.86               5                   262   \n",
       "2                0.11             0.88               7                   272   \n",
       "3                0.72             0.87               5                   223   \n",
       "4                0.37             0.52               2                   159   \n",
       "\n",
       "   time_spend_company  Work_accident  left  promotion_last_5years  sales  \\\n",
       "0                   3              0     1                      0  sales   \n",
       "1                   6              0     1                      0  sales   \n",
       "2                   4              0     1                      0  sales   \n",
       "3                   5              0     1                      0  sales   \n",
       "4                   3              0     1                      0  sales   \n",
       "\n",
       "   salary  \n",
       "0     low  \n",
       "1  medium  \n",
       "2  medium  \n",
       "3     low  \n",
       "4     low  "
      ]
     },
     "execution_count": 4,
     "metadata": {},
     "output_type": "execute_result"
    }
   ],
   "source": [
    "data.head(5)"
   ]
  },
  {
   "cell_type": "code",
   "execution_count": 5,
   "id": "68e05246",
   "metadata": {},
   "outputs": [
    {
     "data": {
      "text/html": [
       "<div>\n",
       "<style scoped>\n",
       "    .dataframe tbody tr th:only-of-type {\n",
       "        vertical-align: middle;\n",
       "    }\n",
       "\n",
       "    .dataframe tbody tr th {\n",
       "        vertical-align: top;\n",
       "    }\n",
       "\n",
       "    .dataframe thead th {\n",
       "        text-align: right;\n",
       "    }\n",
       "</style>\n",
       "<table border=\"1\" class=\"dataframe\">\n",
       "  <thead>\n",
       "    <tr style=\"text-align: right;\">\n",
       "      <th></th>\n",
       "      <th>satisfaction_level</th>\n",
       "      <th>last_evaluation</th>\n",
       "      <th>number_project</th>\n",
       "      <th>average_montly_hours</th>\n",
       "      <th>time_spend_company</th>\n",
       "      <th>Work_accident</th>\n",
       "      <th>left</th>\n",
       "      <th>promotion_last_5years</th>\n",
       "      <th>sales</th>\n",
       "      <th>salary</th>\n",
       "    </tr>\n",
       "  </thead>\n",
       "  <tbody>\n",
       "    <tr>\n",
       "      <th>14994</th>\n",
       "      <td>0.40</td>\n",
       "      <td>0.57</td>\n",
       "      <td>2</td>\n",
       "      <td>151</td>\n",
       "      <td>3</td>\n",
       "      <td>0</td>\n",
       "      <td>1</td>\n",
       "      <td>0</td>\n",
       "      <td>support</td>\n",
       "      <td>low</td>\n",
       "    </tr>\n",
       "    <tr>\n",
       "      <th>14995</th>\n",
       "      <td>0.37</td>\n",
       "      <td>0.48</td>\n",
       "      <td>2</td>\n",
       "      <td>160</td>\n",
       "      <td>3</td>\n",
       "      <td>0</td>\n",
       "      <td>1</td>\n",
       "      <td>0</td>\n",
       "      <td>support</td>\n",
       "      <td>low</td>\n",
       "    </tr>\n",
       "    <tr>\n",
       "      <th>14996</th>\n",
       "      <td>0.37</td>\n",
       "      <td>0.53</td>\n",
       "      <td>2</td>\n",
       "      <td>143</td>\n",
       "      <td>3</td>\n",
       "      <td>0</td>\n",
       "      <td>1</td>\n",
       "      <td>0</td>\n",
       "      <td>support</td>\n",
       "      <td>low</td>\n",
       "    </tr>\n",
       "    <tr>\n",
       "      <th>14997</th>\n",
       "      <td>0.11</td>\n",
       "      <td>0.96</td>\n",
       "      <td>6</td>\n",
       "      <td>280</td>\n",
       "      <td>4</td>\n",
       "      <td>0</td>\n",
       "      <td>1</td>\n",
       "      <td>0</td>\n",
       "      <td>support</td>\n",
       "      <td>low</td>\n",
       "    </tr>\n",
       "    <tr>\n",
       "      <th>14998</th>\n",
       "      <td>0.37</td>\n",
       "      <td>0.52</td>\n",
       "      <td>2</td>\n",
       "      <td>158</td>\n",
       "      <td>3</td>\n",
       "      <td>0</td>\n",
       "      <td>1</td>\n",
       "      <td>0</td>\n",
       "      <td>support</td>\n",
       "      <td>low</td>\n",
       "    </tr>\n",
       "  </tbody>\n",
       "</table>\n",
       "</div>"
      ],
      "text/plain": [
       "       satisfaction_level  last_evaluation  number_project  \\\n",
       "14994                0.40             0.57               2   \n",
       "14995                0.37             0.48               2   \n",
       "14996                0.37             0.53               2   \n",
       "14997                0.11             0.96               6   \n",
       "14998                0.37             0.52               2   \n",
       "\n",
       "       average_montly_hours  time_spend_company  Work_accident  left  \\\n",
       "14994                   151                   3              0     1   \n",
       "14995                   160                   3              0     1   \n",
       "14996                   143                   3              0     1   \n",
       "14997                   280                   4              0     1   \n",
       "14998                   158                   3              0     1   \n",
       "\n",
       "       promotion_last_5years    sales salary  \n",
       "14994                      0  support    low  \n",
       "14995                      0  support    low  \n",
       "14996                      0  support    low  \n",
       "14997                      0  support    low  \n",
       "14998                      0  support    low  "
      ]
     },
     "execution_count": 5,
     "metadata": {},
     "output_type": "execute_result"
    }
   ],
   "source": [
    "data.tail(5)"
   ]
  },
  {
   "cell_type": "code",
   "execution_count": 6,
   "id": "a0a75122",
   "metadata": {},
   "outputs": [
    {
     "data": {
      "text/html": [
       "<div>\n",
       "<style scoped>\n",
       "    .dataframe tbody tr th:only-of-type {\n",
       "        vertical-align: middle;\n",
       "    }\n",
       "\n",
       "    .dataframe tbody tr th {\n",
       "        vertical-align: top;\n",
       "    }\n",
       "\n",
       "    .dataframe thead th {\n",
       "        text-align: right;\n",
       "    }\n",
       "</style>\n",
       "<table border=\"1\" class=\"dataframe\">\n",
       "  <thead>\n",
       "    <tr style=\"text-align: right;\">\n",
       "      <th></th>\n",
       "      <th>satisfaction_level</th>\n",
       "      <th>last_evaluation</th>\n",
       "      <th>number_project</th>\n",
       "      <th>average_montly_hours</th>\n",
       "      <th>time_spend_company</th>\n",
       "      <th>Work_accident</th>\n",
       "      <th>left</th>\n",
       "      <th>promotion_last_5years</th>\n",
       "      <th>sales</th>\n",
       "      <th>salary</th>\n",
       "    </tr>\n",
       "  </thead>\n",
       "  <tbody>\n",
       "    <tr>\n",
       "      <th>5369</th>\n",
       "      <td>0.76</td>\n",
       "      <td>0.82</td>\n",
       "      <td>4</td>\n",
       "      <td>172</td>\n",
       "      <td>3</td>\n",
       "      <td>1</td>\n",
       "      <td>0</td>\n",
       "      <td>0</td>\n",
       "      <td>sales</td>\n",
       "      <td>medium</td>\n",
       "    </tr>\n",
       "    <tr>\n",
       "      <th>14710</th>\n",
       "      <td>0.89</td>\n",
       "      <td>0.95</td>\n",
       "      <td>2</td>\n",
       "      <td>181</td>\n",
       "      <td>5</td>\n",
       "      <td>0</td>\n",
       "      <td>1</td>\n",
       "      <td>0</td>\n",
       "      <td>technical</td>\n",
       "      <td>medium</td>\n",
       "    </tr>\n",
       "    <tr>\n",
       "      <th>29</th>\n",
       "      <td>0.38</td>\n",
       "      <td>0.50</td>\n",
       "      <td>2</td>\n",
       "      <td>132</td>\n",
       "      <td>3</td>\n",
       "      <td>0</td>\n",
       "      <td>1</td>\n",
       "      <td>0</td>\n",
       "      <td>accounting</td>\n",
       "      <td>low</td>\n",
       "    </tr>\n",
       "    <tr>\n",
       "      <th>9544</th>\n",
       "      <td>0.57</td>\n",
       "      <td>0.82</td>\n",
       "      <td>3</td>\n",
       "      <td>149</td>\n",
       "      <td>5</td>\n",
       "      <td>1</td>\n",
       "      <td>0</td>\n",
       "      <td>0</td>\n",
       "      <td>support</td>\n",
       "      <td>medium</td>\n",
       "    </tr>\n",
       "    <tr>\n",
       "      <th>8676</th>\n",
       "      <td>0.60</td>\n",
       "      <td>0.88</td>\n",
       "      <td>4</td>\n",
       "      <td>175</td>\n",
       "      <td>3</td>\n",
       "      <td>0</td>\n",
       "      <td>0</td>\n",
       "      <td>0</td>\n",
       "      <td>support</td>\n",
       "      <td>low</td>\n",
       "    </tr>\n",
       "    <tr>\n",
       "      <th>11226</th>\n",
       "      <td>0.57</td>\n",
       "      <td>1.00</td>\n",
       "      <td>4</td>\n",
       "      <td>227</td>\n",
       "      <td>10</td>\n",
       "      <td>0</td>\n",
       "      <td>0</td>\n",
       "      <td>0</td>\n",
       "      <td>technical</td>\n",
       "      <td>low</td>\n",
       "    </tr>\n",
       "    <tr>\n",
       "      <th>1656</th>\n",
       "      <td>0.84</td>\n",
       "      <td>0.85</td>\n",
       "      <td>5</td>\n",
       "      <td>260</td>\n",
       "      <td>5</td>\n",
       "      <td>0</td>\n",
       "      <td>1</td>\n",
       "      <td>0</td>\n",
       "      <td>support</td>\n",
       "      <td>low</td>\n",
       "    </tr>\n",
       "    <tr>\n",
       "      <th>13088</th>\n",
       "      <td>0.52</td>\n",
       "      <td>0.98</td>\n",
       "      <td>5</td>\n",
       "      <td>217</td>\n",
       "      <td>2</td>\n",
       "      <td>1</td>\n",
       "      <td>0</td>\n",
       "      <td>0</td>\n",
       "      <td>technical</td>\n",
       "      <td>low</td>\n",
       "    </tr>\n",
       "    <tr>\n",
       "      <th>483</th>\n",
       "      <td>0.42</td>\n",
       "      <td>0.54</td>\n",
       "      <td>2</td>\n",
       "      <td>143</td>\n",
       "      <td>3</td>\n",
       "      <td>1</td>\n",
       "      <td>1</td>\n",
       "      <td>0</td>\n",
       "      <td>sales</td>\n",
       "      <td>low</td>\n",
       "    </tr>\n",
       "    <tr>\n",
       "      <th>4074</th>\n",
       "      <td>0.68</td>\n",
       "      <td>0.81</td>\n",
       "      <td>5</td>\n",
       "      <td>266</td>\n",
       "      <td>2</td>\n",
       "      <td>0</td>\n",
       "      <td>0</td>\n",
       "      <td>0</td>\n",
       "      <td>accounting</td>\n",
       "      <td>medium</td>\n",
       "    </tr>\n",
       "  </tbody>\n",
       "</table>\n",
       "</div>"
      ],
      "text/plain": [
       "       satisfaction_level  last_evaluation  number_project  \\\n",
       "5369                 0.76             0.82               4   \n",
       "14710                0.89             0.95               2   \n",
       "29                   0.38             0.50               2   \n",
       "9544                 0.57             0.82               3   \n",
       "8676                 0.60             0.88               4   \n",
       "11226                0.57             1.00               4   \n",
       "1656                 0.84             0.85               5   \n",
       "13088                0.52             0.98               5   \n",
       "483                  0.42             0.54               2   \n",
       "4074                 0.68             0.81               5   \n",
       "\n",
       "       average_montly_hours  time_spend_company  Work_accident  left  \\\n",
       "5369                    172                   3              1     0   \n",
       "14710                   181                   5              0     1   \n",
       "29                      132                   3              0     1   \n",
       "9544                    149                   5              1     0   \n",
       "8676                    175                   3              0     0   \n",
       "11226                   227                  10              0     0   \n",
       "1656                    260                   5              0     1   \n",
       "13088                   217                   2              1     0   \n",
       "483                     143                   3              1     1   \n",
       "4074                    266                   2              0     0   \n",
       "\n",
       "       promotion_last_5years       sales  salary  \n",
       "5369                       0       sales  medium  \n",
       "14710                      0   technical  medium  \n",
       "29                         0  accounting     low  \n",
       "9544                       0     support  medium  \n",
       "8676                       0     support     low  \n",
       "11226                      0   technical     low  \n",
       "1656                       0     support     low  \n",
       "13088                      0   technical     low  \n",
       "483                        0       sales     low  \n",
       "4074                       0  accounting  medium  "
      ]
     },
     "execution_count": 6,
     "metadata": {},
     "output_type": "execute_result"
    }
   ],
   "source": [
    "data.sample(10)"
   ]
  },
  {
   "cell_type": "code",
   "execution_count": 137,
   "id": "2eaf505b",
   "metadata": {},
   "outputs": [],
   "source": [
    "data.rename(columns={'sales': 'department'}, inplace = True)"
   ]
  },
  {
   "cell_type": "code",
   "execution_count": 7,
   "id": "a7e12828",
   "metadata": {},
   "outputs": [
    {
     "data": {
      "text/html": [
       "<div>\n",
       "<style scoped>\n",
       "    .dataframe tbody tr th:only-of-type {\n",
       "        vertical-align: middle;\n",
       "    }\n",
       "\n",
       "    .dataframe tbody tr th {\n",
       "        vertical-align: top;\n",
       "    }\n",
       "\n",
       "    .dataframe thead th {\n",
       "        text-align: right;\n",
       "    }\n",
       "</style>\n",
       "<table border=\"1\" class=\"dataframe\">\n",
       "  <thead>\n",
       "    <tr style=\"text-align: right;\">\n",
       "      <th></th>\n",
       "      <th>satisfaction_level</th>\n",
       "      <th>last_evaluation</th>\n",
       "      <th>number_project</th>\n",
       "      <th>average_montly_hours</th>\n",
       "      <th>time_spend_company</th>\n",
       "      <th>Work_accident</th>\n",
       "      <th>left</th>\n",
       "      <th>promotion_last_5years</th>\n",
       "      <th>department</th>\n",
       "      <th>salary</th>\n",
       "    </tr>\n",
       "  </thead>\n",
       "  <tbody>\n",
       "    <tr>\n",
       "      <th>0</th>\n",
       "      <td>0.38</td>\n",
       "      <td>0.53</td>\n",
       "      <td>2</td>\n",
       "      <td>157</td>\n",
       "      <td>3</td>\n",
       "      <td>0</td>\n",
       "      <td>1</td>\n",
       "      <td>0</td>\n",
       "      <td>sales</td>\n",
       "      <td>low</td>\n",
       "    </tr>\n",
       "    <tr>\n",
       "      <th>1</th>\n",
       "      <td>0.80</td>\n",
       "      <td>0.86</td>\n",
       "      <td>5</td>\n",
       "      <td>262</td>\n",
       "      <td>6</td>\n",
       "      <td>0</td>\n",
       "      <td>1</td>\n",
       "      <td>0</td>\n",
       "      <td>sales</td>\n",
       "      <td>medium</td>\n",
       "    </tr>\n",
       "    <tr>\n",
       "      <th>2</th>\n",
       "      <td>0.11</td>\n",
       "      <td>0.88</td>\n",
       "      <td>7</td>\n",
       "      <td>272</td>\n",
       "      <td>4</td>\n",
       "      <td>0</td>\n",
       "      <td>1</td>\n",
       "      <td>0</td>\n",
       "      <td>sales</td>\n",
       "      <td>medium</td>\n",
       "    </tr>\n",
       "    <tr>\n",
       "      <th>3</th>\n",
       "      <td>0.72</td>\n",
       "      <td>0.87</td>\n",
       "      <td>5</td>\n",
       "      <td>223</td>\n",
       "      <td>5</td>\n",
       "      <td>0</td>\n",
       "      <td>1</td>\n",
       "      <td>0</td>\n",
       "      <td>sales</td>\n",
       "      <td>low</td>\n",
       "    </tr>\n",
       "    <tr>\n",
       "      <th>4</th>\n",
       "      <td>0.37</td>\n",
       "      <td>0.52</td>\n",
       "      <td>2</td>\n",
       "      <td>159</td>\n",
       "      <td>3</td>\n",
       "      <td>0</td>\n",
       "      <td>1</td>\n",
       "      <td>0</td>\n",
       "      <td>sales</td>\n",
       "      <td>low</td>\n",
       "    </tr>\n",
       "  </tbody>\n",
       "</table>\n",
       "</div>"
      ],
      "text/plain": [
       "   satisfaction_level  last_evaluation  number_project  average_montly_hours  \\\n",
       "0                0.38             0.53               2                   157   \n",
       "1                0.80             0.86               5                   262   \n",
       "2                0.11             0.88               7                   272   \n",
       "3                0.72             0.87               5                   223   \n",
       "4                0.37             0.52               2                   159   \n",
       "\n",
       "   time_spend_company  Work_accident  left  promotion_last_5years department  \\\n",
       "0                   3              0     1                      0      sales   \n",
       "1                   6              0     1                      0      sales   \n",
       "2                   4              0     1                      0      sales   \n",
       "3                   5              0     1                      0      sales   \n",
       "4                   3              0     1                      0      sales   \n",
       "\n",
       "   salary  \n",
       "0     low  \n",
       "1  medium  \n",
       "2  medium  \n",
       "3     low  \n",
       "4     low  "
      ]
     },
     "execution_count": 7,
     "metadata": {},
     "output_type": "execute_result"
    }
   ],
   "source": [
    "data.head(5)"
   ]
  },
  {
   "cell_type": "code",
   "execution_count": 8,
   "id": "286c5c7e",
   "metadata": {},
   "outputs": [
    {
     "data": {
      "text/html": [
       "<div>\n",
       "<style scoped>\n",
       "    .dataframe tbody tr th:only-of-type {\n",
       "        vertical-align: middle;\n",
       "    }\n",
       "\n",
       "    .dataframe tbody tr th {\n",
       "        vertical-align: top;\n",
       "    }\n",
       "\n",
       "    .dataframe thead th {\n",
       "        text-align: right;\n",
       "    }\n",
       "</style>\n",
       "<table border=\"1\" class=\"dataframe\">\n",
       "  <thead>\n",
       "    <tr style=\"text-align: right;\">\n",
       "      <th></th>\n",
       "      <th>satisfaction_level</th>\n",
       "      <th>last_evaluation</th>\n",
       "      <th>number_project</th>\n",
       "      <th>average_montly_hours</th>\n",
       "      <th>time_spend_company</th>\n",
       "      <th>Work_accident</th>\n",
       "      <th>left</th>\n",
       "      <th>promotion_last_5years</th>\n",
       "    </tr>\n",
       "  </thead>\n",
       "  <tbody>\n",
       "    <tr>\n",
       "      <th>count</th>\n",
       "      <td>14999.000000</td>\n",
       "      <td>14999.000000</td>\n",
       "      <td>14999.000000</td>\n",
       "      <td>14999.000000</td>\n",
       "      <td>14999.000000</td>\n",
       "      <td>14999.000000</td>\n",
       "      <td>14999.000000</td>\n",
       "      <td>14999.000000</td>\n",
       "    </tr>\n",
       "    <tr>\n",
       "      <th>mean</th>\n",
       "      <td>0.612834</td>\n",
       "      <td>0.716102</td>\n",
       "      <td>3.803054</td>\n",
       "      <td>201.050337</td>\n",
       "      <td>3.498233</td>\n",
       "      <td>0.144610</td>\n",
       "      <td>0.238083</td>\n",
       "      <td>0.021268</td>\n",
       "    </tr>\n",
       "    <tr>\n",
       "      <th>std</th>\n",
       "      <td>0.248631</td>\n",
       "      <td>0.171169</td>\n",
       "      <td>1.232592</td>\n",
       "      <td>49.943099</td>\n",
       "      <td>1.460136</td>\n",
       "      <td>0.351719</td>\n",
       "      <td>0.425924</td>\n",
       "      <td>0.144281</td>\n",
       "    </tr>\n",
       "    <tr>\n",
       "      <th>min</th>\n",
       "      <td>0.090000</td>\n",
       "      <td>0.360000</td>\n",
       "      <td>2.000000</td>\n",
       "      <td>96.000000</td>\n",
       "      <td>2.000000</td>\n",
       "      <td>0.000000</td>\n",
       "      <td>0.000000</td>\n",
       "      <td>0.000000</td>\n",
       "    </tr>\n",
       "    <tr>\n",
       "      <th>25%</th>\n",
       "      <td>0.440000</td>\n",
       "      <td>0.560000</td>\n",
       "      <td>3.000000</td>\n",
       "      <td>156.000000</td>\n",
       "      <td>3.000000</td>\n",
       "      <td>0.000000</td>\n",
       "      <td>0.000000</td>\n",
       "      <td>0.000000</td>\n",
       "    </tr>\n",
       "    <tr>\n",
       "      <th>50%</th>\n",
       "      <td>0.640000</td>\n",
       "      <td>0.720000</td>\n",
       "      <td>4.000000</td>\n",
       "      <td>200.000000</td>\n",
       "      <td>3.000000</td>\n",
       "      <td>0.000000</td>\n",
       "      <td>0.000000</td>\n",
       "      <td>0.000000</td>\n",
       "    </tr>\n",
       "    <tr>\n",
       "      <th>75%</th>\n",
       "      <td>0.820000</td>\n",
       "      <td>0.870000</td>\n",
       "      <td>5.000000</td>\n",
       "      <td>245.000000</td>\n",
       "      <td>4.000000</td>\n",
       "      <td>0.000000</td>\n",
       "      <td>0.000000</td>\n",
       "      <td>0.000000</td>\n",
       "    </tr>\n",
       "    <tr>\n",
       "      <th>max</th>\n",
       "      <td>1.000000</td>\n",
       "      <td>1.000000</td>\n",
       "      <td>7.000000</td>\n",
       "      <td>310.000000</td>\n",
       "      <td>10.000000</td>\n",
       "      <td>1.000000</td>\n",
       "      <td>1.000000</td>\n",
       "      <td>1.000000</td>\n",
       "    </tr>\n",
       "  </tbody>\n",
       "</table>\n",
       "</div>"
      ],
      "text/plain": [
       "       satisfaction_level  last_evaluation  number_project  \\\n",
       "count        14999.000000     14999.000000    14999.000000   \n",
       "mean             0.612834         0.716102        3.803054   \n",
       "std              0.248631         0.171169        1.232592   \n",
       "min              0.090000         0.360000        2.000000   \n",
       "25%              0.440000         0.560000        3.000000   \n",
       "50%              0.640000         0.720000        4.000000   \n",
       "75%              0.820000         0.870000        5.000000   \n",
       "max              1.000000         1.000000        7.000000   \n",
       "\n",
       "       average_montly_hours  time_spend_company  Work_accident          left  \\\n",
       "count          14999.000000        14999.000000   14999.000000  14999.000000   \n",
       "mean             201.050337            3.498233       0.144610      0.238083   \n",
       "std               49.943099            1.460136       0.351719      0.425924   \n",
       "min               96.000000            2.000000       0.000000      0.000000   \n",
       "25%              156.000000            3.000000       0.000000      0.000000   \n",
       "50%              200.000000            3.000000       0.000000      0.000000   \n",
       "75%              245.000000            4.000000       0.000000      0.000000   \n",
       "max              310.000000           10.000000       1.000000      1.000000   \n",
       "\n",
       "       promotion_last_5years  \n",
       "count           14999.000000  \n",
       "mean                0.021268  \n",
       "std                 0.144281  \n",
       "min                 0.000000  \n",
       "25%                 0.000000  \n",
       "50%                 0.000000  \n",
       "75%                 0.000000  \n",
       "max                 1.000000  "
      ]
     },
     "execution_count": 8,
     "metadata": {},
     "output_type": "execute_result"
    }
   ],
   "source": [
    "data.describe()"
   ]
  },
  {
   "cell_type": "markdown",
   "id": "0b83c636",
   "metadata": {},
   "source": [
    "From the descriptive analysis it is concluded that approximately 24% of the employees left the company. The satisfaction level is around 62% and performance is around 72%. Employees work in average on 4 projects with 200 hours worked per month."
   ]
  },
  {
   "cell_type": "code",
   "execution_count": 9,
   "id": "a97bef24",
   "metadata": {},
   "outputs": [
    {
     "name": "stdout",
     "output_type": "stream",
     "text": [
      "<class 'pandas.core.frame.DataFrame'>\n",
      "RangeIndex: 14999 entries, 0 to 14998\n",
      "Data columns (total 10 columns):\n",
      " #   Column                 Non-Null Count  Dtype  \n",
      "---  ------                 --------------  -----  \n",
      " 0   satisfaction_level     14999 non-null  float64\n",
      " 1   last_evaluation        14999 non-null  float64\n",
      " 2   number_project         14999 non-null  int64  \n",
      " 3   average_montly_hours   14999 non-null  int64  \n",
      " 4   time_spend_company     14999 non-null  int64  \n",
      " 5   Work_accident          14999 non-null  int64  \n",
      " 6   left                   14999 non-null  int64  \n",
      " 7   promotion_last_5years  14999 non-null  int64  \n",
      " 8   department             14999 non-null  object \n",
      " 9   salary                 14999 non-null  object \n",
      "dtypes: float64(2), int64(6), object(2)\n",
      "memory usage: 1.1+ MB\n"
     ]
    }
   ],
   "source": [
    "data.info()"
   ]
  },
  {
   "cell_type": "markdown",
   "id": "cf937895",
   "metadata": {},
   "source": [
    "Inferences: This dataset has 14,999 samples, and 10 attributes(6 integer, 2 float, and 2 objects). No variable column has null/missing values. 10 attributes are described in detail as: satisfaction_level: It is employee satisfaction point, which ranges from 0-1. last_evaluation: It is evaluated performance by the employer, which also ranges from 0-1. number_projects: How many numbers of projects assigned to an employee? average_monthly_hours: How many average numbers of hours worked by an employee in a month? time_spent_company: time_spent_company means employee experience. The number of years spent by an employee in the company. work_accident: Whether an employee has had a work accident or not. promotion_last_5years: Whether an employee has had a promotion in the last 5 years or not. Departments: Employee's working department/division. Salary: Salary level of the employee such as low, medium and high. left: Whether the employee has left the company or not."
   ]
  },
  {
   "cell_type": "code",
   "execution_count": 10,
   "id": "8842fe57",
   "metadata": {},
   "outputs": [
    {
     "name": "stdout",
     "output_type": "stream",
     "text": [
      "sales          4140\n",
      "technical      2720\n",
      "support        2229\n",
      "IT             1227\n",
      "product_mng     902\n",
      "marketing       858\n",
      "RandD           787\n",
      "accounting      767\n",
      "hr              739\n",
      "management      630\n",
      "Name: department, dtype: int64\n"
     ]
    }
   ],
   "source": [
    "#How many employees work in each department?\n",
    "print(data['department'].value_counts())"
   ]
  },
  {
   "cell_type": "code",
   "execution_count": 11,
   "id": "4292f893",
   "metadata": {},
   "outputs": [
    {
     "data": {
      "text/plain": [
       "satisfaction_level       0\n",
       "last_evaluation          0\n",
       "number_project           0\n",
       "average_montly_hours     0\n",
       "time_spend_company       0\n",
       "Work_accident            0\n",
       "left                     0\n",
       "promotion_last_5years    0\n",
       "department               0\n",
       "salary                   0\n",
       "dtype: int64"
      ]
     },
     "execution_count": 11,
     "metadata": {},
     "output_type": "execute_result"
    }
   ],
   "source": [
    "data.isnull().sum()"
   ]
  },
  {
   "cell_type": "code",
   "execution_count": 12,
   "id": "fa11768e",
   "metadata": {},
   "outputs": [
    {
     "data": {
      "text/plain": [
       "satisfaction_level       False\n",
       "last_evaluation          False\n",
       "number_project           False\n",
       "average_montly_hours     False\n",
       "time_spend_company       False\n",
       "Work_accident            False\n",
       "left                     False\n",
       "promotion_last_5years    False\n",
       "department               False\n",
       "salary                   False\n",
       "dtype: bool"
      ]
     },
     "execution_count": 12,
     "metadata": {},
     "output_type": "execute_result"
    }
   ],
   "source": [
    "data.isna().any()"
   ]
  },
  {
   "cell_type": "code",
   "execution_count": 13,
   "id": "5ae632bb",
   "metadata": {},
   "outputs": [
    {
     "data": {
      "text/plain": [
       "satisfaction_level       float64\n",
       "last_evaluation          float64\n",
       "number_project             int64\n",
       "average_montly_hours       int64\n",
       "time_spend_company         int64\n",
       "Work_accident              int64\n",
       "left                       int64\n",
       "promotion_last_5years      int64\n",
       "department                object\n",
       "salary                    object\n",
       "dtype: object"
      ]
     },
     "execution_count": 13,
     "metadata": {},
     "output_type": "execute_result"
    }
   ],
   "source": [
    "data.dtypes"
   ]
  },
  {
   "cell_type": "code",
   "execution_count": 14,
   "id": "d14abceb",
   "metadata": {},
   "outputs": [
    {
     "data": {
      "text/plain": [
       "array(['sales', 'accounting', 'hr', 'technical', 'support', 'management',\n",
       "       'IT', 'product_mng', 'marketing', 'RandD'], dtype=object)"
      ]
     },
     "execution_count": 14,
     "metadata": {},
     "output_type": "execute_result"
    }
   ],
   "source": [
    "data['department'].unique()"
   ]
  },
  {
   "cell_type": "code",
   "execution_count": 15,
   "id": "6fa6f56d",
   "metadata": {},
   "outputs": [
    {
     "data": {
      "text/plain": [
       "array(['low', 'medium', 'high'], dtype=object)"
      ]
     },
     "execution_count": 15,
     "metadata": {},
     "output_type": "execute_result"
    }
   ],
   "source": [
    "data['salary'].unique()"
   ]
  },
  {
   "cell_type": "code",
   "execution_count": 16,
   "id": "98258646",
   "metadata": {},
   "outputs": [],
   "source": [
    "#How many employees per salary range?\n",
    "#The employees salary is divided in Low (1), Medium (2) and High (3)"
   ]
  },
  {
   "cell_type": "code",
   "execution_count": 17,
   "id": "70d39c3a",
   "metadata": {},
   "outputs": [
    {
     "name": "stdout",
     "output_type": "stream",
     "text": [
      "low       7316\n",
      "medium    6446\n",
      "high      1237\n",
      "Name: salary, dtype: int64\n"
     ]
    }
   ],
   "source": [
    "print(data['salary'].value_counts())"
   ]
  },
  {
   "cell_type": "code",
   "execution_count": 18,
   "id": "a9719918",
   "metadata": {},
   "outputs": [],
   "source": [
    "#How many employees per salary range and department?"
   ]
  },
  {
   "cell_type": "code",
   "execution_count": 19,
   "id": "ad3894f3",
   "metadata": {},
   "outputs": [
    {
     "data": {
      "text/html": [
       "<div>\n",
       "<style scoped>\n",
       "    .dataframe tbody tr th:only-of-type {\n",
       "        vertical-align: middle;\n",
       "    }\n",
       "\n",
       "    .dataframe tbody tr th {\n",
       "        vertical-align: top;\n",
       "    }\n",
       "\n",
       "    .dataframe thead th {\n",
       "        text-align: right;\n",
       "    }\n",
       "</style>\n",
       "<table border=\"1\" class=\"dataframe\">\n",
       "  <thead>\n",
       "    <tr style=\"text-align: right;\">\n",
       "      <th>salary</th>\n",
       "      <th>high</th>\n",
       "      <th>low</th>\n",
       "      <th>medium</th>\n",
       "    </tr>\n",
       "    <tr>\n",
       "      <th>department</th>\n",
       "      <th></th>\n",
       "      <th></th>\n",
       "      <th></th>\n",
       "    </tr>\n",
       "  </thead>\n",
       "  <tbody>\n",
       "    <tr>\n",
       "      <th>IT</th>\n",
       "      <td>83.0</td>\n",
       "      <td>609.0</td>\n",
       "      <td>535.0</td>\n",
       "    </tr>\n",
       "    <tr>\n",
       "      <th>RandD</th>\n",
       "      <td>51.0</td>\n",
       "      <td>364.0</td>\n",
       "      <td>372.0</td>\n",
       "    </tr>\n",
       "    <tr>\n",
       "      <th>accounting</th>\n",
       "      <td>74.0</td>\n",
       "      <td>358.0</td>\n",
       "      <td>335.0</td>\n",
       "    </tr>\n",
       "    <tr>\n",
       "      <th>hr</th>\n",
       "      <td>45.0</td>\n",
       "      <td>335.0</td>\n",
       "      <td>359.0</td>\n",
       "    </tr>\n",
       "    <tr>\n",
       "      <th>management</th>\n",
       "      <td>225.0</td>\n",
       "      <td>180.0</td>\n",
       "      <td>225.0</td>\n",
       "    </tr>\n",
       "    <tr>\n",
       "      <th>marketing</th>\n",
       "      <td>80.0</td>\n",
       "      <td>402.0</td>\n",
       "      <td>376.0</td>\n",
       "    </tr>\n",
       "    <tr>\n",
       "      <th>product_mng</th>\n",
       "      <td>68.0</td>\n",
       "      <td>451.0</td>\n",
       "      <td>383.0</td>\n",
       "    </tr>\n",
       "    <tr>\n",
       "      <th>sales</th>\n",
       "      <td>269.0</td>\n",
       "      <td>2099.0</td>\n",
       "      <td>1772.0</td>\n",
       "    </tr>\n",
       "    <tr>\n",
       "      <th>support</th>\n",
       "      <td>141.0</td>\n",
       "      <td>1146.0</td>\n",
       "      <td>942.0</td>\n",
       "    </tr>\n",
       "    <tr>\n",
       "      <th>technical</th>\n",
       "      <td>201.0</td>\n",
       "      <td>1372.0</td>\n",
       "      <td>1147.0</td>\n",
       "    </tr>\n",
       "  </tbody>\n",
       "</table>\n",
       "</div>"
      ],
      "text/plain": [
       "salary        high     low  medium\n",
       "department                        \n",
       "IT            83.0   609.0   535.0\n",
       "RandD         51.0   364.0   372.0\n",
       "accounting    74.0   358.0   335.0\n",
       "hr            45.0   335.0   359.0\n",
       "management   225.0   180.0   225.0\n",
       "marketing     80.0   402.0   376.0\n",
       "product_mng   68.0   451.0   383.0\n",
       "sales        269.0  2099.0  1772.0\n",
       "support      141.0  1146.0   942.0\n",
       "technical    201.0  1372.0  1147.0"
      ]
     },
     "execution_count": 19,
     "metadata": {},
     "output_type": "execute_result"
    }
   ],
   "source": [
    "table = data.pivot_table(values=\"satisfaction_level\", index=\"department\", columns=\"salary\",aggfunc=np.count_nonzero)\n",
    "table"
   ]
  },
  {
   "cell_type": "markdown",
   "id": "0d611320",
   "metadata": {},
   "source": [
    "# Outlier detection & handling"
   ]
  },
  {
   "cell_type": "code",
   "execution_count": 20,
   "id": "4cbd27c5",
   "metadata": {},
   "outputs": [],
   "source": [
    "%matplotlib inline \n",
    "import matplotlib.pyplot as plt\n",
    "import seaborn as sns\n",
    "sns.set()"
   ]
  },
  {
   "cell_type": "code",
   "execution_count": 21,
   "id": "a877244c",
   "metadata": {},
   "outputs": [
    {
     "data": {
      "image/png": "[encoded data removed]",
      "text/plain": [
       "<Figure size 432x288 with 1 Axes>"
      ]
     },
     "metadata": {},
     "output_type": "display_data"
    }
   ],
   "source": [
    "data = pd.DataFrame(data = np.random.random(size=(4,5)), columns = ['number_project','average_montly_hours','time_spend_company','Work_accident','promotion_last_5years'],)\n",
    "\n",
    "data.boxplot();\n",
    "plt.xticks(rotation=45);"
   ]
  },
  {
   "cell_type": "code",
   "execution_count": 22,
   "id": "cf124d79",
   "metadata": {},
   "outputs": [],
   "source": [
    "# No outliers are detected in any of the features"
   ]
  },
  {
   "cell_type": "markdown",
   "id": "5d42099e",
   "metadata": {},
   "source": [
    "# Encoding"
   ]
  },
  {
   "cell_type": "code",
   "execution_count": 23,
   "id": "0cf25ff1",
   "metadata": {},
   "outputs": [],
   "source": [
    "#Since object columns salary and department have more than two categories,One hot encoding is being done:\n",
    "#Encoding all categorical features using one hot encoding"
   ]
  },
  {
   "cell_type": "code",
   "execution_count": 138,
   "id": "d3f4890a",
   "metadata": {},
   "outputs": [],
   "source": [
    "for i in ['salary', 'department']:\n",
    "    x=pd.get_dummies(data[i])\n",
    "    data=pd.concat([data,x],axis=1)"
   ]
  },
  {
   "cell_type": "code",
   "execution_count": 28,
   "id": "70be3223",
   "metadata": {},
   "outputs": [
    {
     "data": {
      "text/html": [
       "<div>\n",
       "<style scoped>\n",
       "    .dataframe tbody tr th:only-of-type {\n",
       "        vertical-align: middle;\n",
       "    }\n",
       "\n",
       "    .dataframe tbody tr th {\n",
       "        vertical-align: top;\n",
       "    }\n",
       "\n",
       "    .dataframe thead th {\n",
       "        text-align: right;\n",
       "    }\n",
       "</style>\n",
       "<table border=\"1\" class=\"dataframe\">\n",
       "  <thead>\n",
       "    <tr style=\"text-align: right;\">\n",
       "      <th></th>\n",
       "      <th>satisfaction_level</th>\n",
       "      <th>last_evaluation</th>\n",
       "      <th>number_project</th>\n",
       "      <th>average_montly_hours</th>\n",
       "      <th>time_spend_company</th>\n",
       "      <th>Work_accident</th>\n",
       "      <th>left</th>\n",
       "      <th>promotion_last_5years</th>\n",
       "      <th>department</th>\n",
       "      <th>salary</th>\n",
       "      <th>...</th>\n",
       "      <th>IT</th>\n",
       "      <th>RandD</th>\n",
       "      <th>accounting</th>\n",
       "      <th>hr</th>\n",
       "      <th>management</th>\n",
       "      <th>marketing</th>\n",
       "      <th>product_mng</th>\n",
       "      <th>sales</th>\n",
       "      <th>support</th>\n",
       "      <th>technical</th>\n",
       "    </tr>\n",
       "  </thead>\n",
       "  <tbody>\n",
       "    <tr>\n",
       "      <th>0</th>\n",
       "      <td>0.38</td>\n",
       "      <td>0.53</td>\n",
       "      <td>2</td>\n",
       "      <td>157</td>\n",
       "      <td>3</td>\n",
       "      <td>0</td>\n",
       "      <td>1</td>\n",
       "      <td>0</td>\n",
       "      <td>sales</td>\n",
       "      <td>low</td>\n",
       "      <td>...</td>\n",
       "      <td>0</td>\n",
       "      <td>0</td>\n",
       "      <td>0</td>\n",
       "      <td>0</td>\n",
       "      <td>0</td>\n",
       "      <td>0</td>\n",
       "      <td>0</td>\n",
       "      <td>1</td>\n",
       "      <td>0</td>\n",
       "      <td>0</td>\n",
       "    </tr>\n",
       "    <tr>\n",
       "      <th>1</th>\n",
       "      <td>0.80</td>\n",
       "      <td>0.86</td>\n",
       "      <td>5</td>\n",
       "      <td>262</td>\n",
       "      <td>6</td>\n",
       "      <td>0</td>\n",
       "      <td>1</td>\n",
       "      <td>0</td>\n",
       "      <td>sales</td>\n",
       "      <td>medium</td>\n",
       "      <td>...</td>\n",
       "      <td>0</td>\n",
       "      <td>0</td>\n",
       "      <td>0</td>\n",
       "      <td>0</td>\n",
       "      <td>0</td>\n",
       "      <td>0</td>\n",
       "      <td>0</td>\n",
       "      <td>1</td>\n",
       "      <td>0</td>\n",
       "      <td>0</td>\n",
       "    </tr>\n",
       "    <tr>\n",
       "      <th>2</th>\n",
       "      <td>0.11</td>\n",
       "      <td>0.88</td>\n",
       "      <td>7</td>\n",
       "      <td>272</td>\n",
       "      <td>4</td>\n",
       "      <td>0</td>\n",
       "      <td>1</td>\n",
       "      <td>0</td>\n",
       "      <td>sales</td>\n",
       "      <td>medium</td>\n",
       "      <td>...</td>\n",
       "      <td>0</td>\n",
       "      <td>0</td>\n",
       "      <td>0</td>\n",
       "      <td>0</td>\n",
       "      <td>0</td>\n",
       "      <td>0</td>\n",
       "      <td>0</td>\n",
       "      <td>1</td>\n",
       "      <td>0</td>\n",
       "      <td>0</td>\n",
       "    </tr>\n",
       "    <tr>\n",
       "      <th>3</th>\n",
       "      <td>0.72</td>\n",
       "      <td>0.87</td>\n",
       "      <td>5</td>\n",
       "      <td>223</td>\n",
       "      <td>5</td>\n",
       "      <td>0</td>\n",
       "      <td>1</td>\n",
       "      <td>0</td>\n",
       "      <td>sales</td>\n",
       "      <td>low</td>\n",
       "      <td>...</td>\n",
       "      <td>0</td>\n",
       "      <td>0</td>\n",
       "      <td>0</td>\n",
       "      <td>0</td>\n",
       "      <td>0</td>\n",
       "      <td>0</td>\n",
       "      <td>0</td>\n",
       "      <td>1</td>\n",
       "      <td>0</td>\n",
       "      <td>0</td>\n",
       "    </tr>\n",
       "    <tr>\n",
       "      <th>4</th>\n",
       "      <td>0.37</td>\n",
       "      <td>0.52</td>\n",
       "      <td>2</td>\n",
       "      <td>159</td>\n",
       "      <td>3</td>\n",
       "      <td>0</td>\n",
       "      <td>1</td>\n",
       "      <td>0</td>\n",
       "      <td>sales</td>\n",
       "      <td>low</td>\n",
       "      <td>...</td>\n",
       "      <td>0</td>\n",
       "      <td>0</td>\n",
       "      <td>0</td>\n",
       "      <td>0</td>\n",
       "      <td>0</td>\n",
       "      <td>0</td>\n",
       "      <td>0</td>\n",
       "      <td>1</td>\n",
       "      <td>0</td>\n",
       "      <td>0</td>\n",
       "    </tr>\n",
       "  </tbody>\n",
       "</table>\n",
       "<p>5 rows × 23 columns</p>\n",
       "</div>"
      ],
      "text/plain": [
       "   satisfaction_level  last_evaluation  number_project  average_montly_hours  \\\n",
       "0                0.38             0.53               2                   157   \n",
       "1                0.80             0.86               5                   262   \n",
       "2                0.11             0.88               7                   272   \n",
       "3                0.72             0.87               5                   223   \n",
       "4                0.37             0.52               2                   159   \n",
       "\n",
       "   time_spend_company  Work_accident  left  promotion_last_5years department  \\\n",
       "0                   3              0     1                      0      sales   \n",
       "1                   6              0     1                      0      sales   \n",
       "2                   4              0     1                      0      sales   \n",
       "3                   5              0     1                      0      sales   \n",
       "4                   3              0     1                      0      sales   \n",
       "\n",
       "   salary  ...  IT  RandD  accounting  hr  management  marketing  product_mng  \\\n",
       "0     low  ...   0      0           0   0           0          0            0   \n",
       "1  medium  ...   0      0           0   0           0          0            0   \n",
       "2  medium  ...   0      0           0   0           0          0            0   \n",
       "3     low  ...   0      0           0   0           0          0            0   \n",
       "4     low  ...   0      0           0   0           0          0            0   \n",
       "\n",
       "   sales  support  technical  \n",
       "0      1        0          0  \n",
       "1      1        0          0  \n",
       "2      1        0          0  \n",
       "3      1        0          0  \n",
       "4      1        0          0  \n",
       "\n",
       "[5 rows x 23 columns]"
      ]
     },
     "execution_count": 28,
     "metadata": {},
     "output_type": "execute_result"
    }
   ],
   "source": [
    "data.head()"
   ]
  },
  {
   "cell_type": "code",
   "execution_count": 139,
   "id": "96baea18",
   "metadata": {},
   "outputs": [
    {
     "data": {
      "text/html": [
       "<div>\n",
       "<style scoped>\n",
       "    .dataframe tbody tr th:only-of-type {\n",
       "        vertical-align: middle;\n",
       "    }\n",
       "\n",
       "    .dataframe tbody tr th {\n",
       "        vertical-align: top;\n",
       "    }\n",
       "\n",
       "    .dataframe thead th {\n",
       "        text-align: right;\n",
       "    }\n",
       "</style>\n",
       "<table border=\"1\" class=\"dataframe\">\n",
       "  <thead>\n",
       "    <tr style=\"text-align: right;\">\n",
       "      <th></th>\n",
       "      <th>satisfaction_level</th>\n",
       "      <th>last_evaluation</th>\n",
       "      <th>number_project</th>\n",
       "      <th>average_montly_hours</th>\n",
       "      <th>time_spend_company</th>\n",
       "      <th>Work_accident</th>\n",
       "      <th>left</th>\n",
       "      <th>promotion_last_5years</th>\n",
       "      <th>high</th>\n",
       "      <th>low</th>\n",
       "      <th>...</th>\n",
       "      <th>department_hr</th>\n",
       "      <th>department_management</th>\n",
       "      <th>department_marketing</th>\n",
       "      <th>department_product_mng</th>\n",
       "      <th>department_sales</th>\n",
       "      <th>department_support</th>\n",
       "      <th>department_technical</th>\n",
       "      <th>salary_high</th>\n",
       "      <th>salary_low</th>\n",
       "      <th>salary_medium</th>\n",
       "    </tr>\n",
       "  </thead>\n",
       "  <tbody>\n",
       "    <tr>\n",
       "      <th>0</th>\n",
       "      <td>0.38</td>\n",
       "      <td>0.53</td>\n",
       "      <td>2</td>\n",
       "      <td>157</td>\n",
       "      <td>3</td>\n",
       "      <td>0</td>\n",
       "      <td>1</td>\n",
       "      <td>0</td>\n",
       "      <td>0</td>\n",
       "      <td>1</td>\n",
       "      <td>...</td>\n",
       "      <td>0</td>\n",
       "      <td>0</td>\n",
       "      <td>0</td>\n",
       "      <td>0</td>\n",
       "      <td>1</td>\n",
       "      <td>0</td>\n",
       "      <td>0</td>\n",
       "      <td>0</td>\n",
       "      <td>1</td>\n",
       "      <td>0</td>\n",
       "    </tr>\n",
       "    <tr>\n",
       "      <th>1</th>\n",
       "      <td>0.80</td>\n",
       "      <td>0.86</td>\n",
       "      <td>5</td>\n",
       "      <td>262</td>\n",
       "      <td>6</td>\n",
       "      <td>0</td>\n",
       "      <td>1</td>\n",
       "      <td>0</td>\n",
       "      <td>0</td>\n",
       "      <td>0</td>\n",
       "      <td>...</td>\n",
       "      <td>0</td>\n",
       "      <td>0</td>\n",
       "      <td>0</td>\n",
       "      <td>0</td>\n",
       "      <td>1</td>\n",
       "      <td>0</td>\n",
       "      <td>0</td>\n",
       "      <td>0</td>\n",
       "      <td>0</td>\n",
       "      <td>1</td>\n",
       "    </tr>\n",
       "    <tr>\n",
       "      <th>2</th>\n",
       "      <td>0.11</td>\n",
       "      <td>0.88</td>\n",
       "      <td>7</td>\n",
       "      <td>272</td>\n",
       "      <td>4</td>\n",
       "      <td>0</td>\n",
       "      <td>1</td>\n",
       "      <td>0</td>\n",
       "      <td>0</td>\n",
       "      <td>0</td>\n",
       "      <td>...</td>\n",
       "      <td>0</td>\n",
       "      <td>0</td>\n",
       "      <td>0</td>\n",
       "      <td>0</td>\n",
       "      <td>1</td>\n",
       "      <td>0</td>\n",
       "      <td>0</td>\n",
       "      <td>0</td>\n",
       "      <td>0</td>\n",
       "      <td>1</td>\n",
       "    </tr>\n",
       "    <tr>\n",
       "      <th>3</th>\n",
       "      <td>0.72</td>\n",
       "      <td>0.87</td>\n",
       "      <td>5</td>\n",
       "      <td>223</td>\n",
       "      <td>5</td>\n",
       "      <td>0</td>\n",
       "      <td>1</td>\n",
       "      <td>0</td>\n",
       "      <td>0</td>\n",
       "      <td>1</td>\n",
       "      <td>...</td>\n",
       "      <td>0</td>\n",
       "      <td>0</td>\n",
       "      <td>0</td>\n",
       "      <td>0</td>\n",
       "      <td>1</td>\n",
       "      <td>0</td>\n",
       "      <td>0</td>\n",
       "      <td>0</td>\n",
       "      <td>1</td>\n",
       "      <td>0</td>\n",
       "    </tr>\n",
       "    <tr>\n",
       "      <th>4</th>\n",
       "      <td>0.37</td>\n",
       "      <td>0.52</td>\n",
       "      <td>2</td>\n",
       "      <td>159</td>\n",
       "      <td>3</td>\n",
       "      <td>0</td>\n",
       "      <td>1</td>\n",
       "      <td>0</td>\n",
       "      <td>0</td>\n",
       "      <td>1</td>\n",
       "      <td>...</td>\n",
       "      <td>0</td>\n",
       "      <td>0</td>\n",
       "      <td>0</td>\n",
       "      <td>0</td>\n",
       "      <td>1</td>\n",
       "      <td>0</td>\n",
       "      <td>0</td>\n",
       "      <td>0</td>\n",
       "      <td>1</td>\n",
       "      <td>0</td>\n",
       "    </tr>\n",
       "  </tbody>\n",
       "</table>\n",
       "<p>5 rows × 34 columns</p>\n",
       "</div>"
      ],
      "text/plain": [
       "   satisfaction_level  last_evaluation  number_project  average_montly_hours  \\\n",
       "0                0.38             0.53               2                   157   \n",
       "1                0.80             0.86               5                   262   \n",
       "2                0.11             0.88               7                   272   \n",
       "3                0.72             0.87               5                   223   \n",
       "4                0.37             0.52               2                   159   \n",
       "\n",
       "   time_spend_company  Work_accident  left  promotion_last_5years  high  low  \\\n",
       "0                   3              0     1                      0     0    1   \n",
       "1                   6              0     1                      0     0    0   \n",
       "2                   4              0     1                      0     0    0   \n",
       "3                   5              0     1                      0     0    1   \n",
       "4                   3              0     1                      0     0    1   \n",
       "\n",
       "   ...  department_hr  department_management  department_marketing  \\\n",
       "0  ...              0                      0                     0   \n",
       "1  ...              0                      0                     0   \n",
       "2  ...              0                      0                     0   \n",
       "3  ...              0                      0                     0   \n",
       "4  ...              0                      0                     0   \n",
       "\n",
       "   department_product_mng  department_sales  department_support  \\\n",
       "0                       0                 1                   0   \n",
       "1                       0                 1                   0   \n",
       "2                       0                 1                   0   \n",
       "3                       0                 1                   0   \n",
       "4                       0                 1                   0   \n",
       "\n",
       "   department_technical  salary_high  salary_low  salary_medium  \n",
       "0                     0            0           1              0  \n",
       "1                     0            0           0              1  \n",
       "2                     0            0           0              1  \n",
       "3                     0            0           1              0  \n",
       "4                     0            0           1              0  \n",
       "\n",
       "[5 rows x 34 columns]"
      ]
     },
     "execution_count": 139,
     "metadata": {},
     "output_type": "execute_result"
    }
   ],
   "source": [
    "data = pd.get_dummies(data=data, columns=['department', 'salary'])\n",
    "data.head()"
   ]
  },
  {
   "cell_type": "markdown",
   "id": "16f26444",
   "metadata": {},
   "source": [
    "# Preparing the Data"
   ]
  },
  {
   "cell_type": "code",
   "execution_count": 30,
   "id": "4832c5f2",
   "metadata": {},
   "outputs": [],
   "source": [
    "# Split the data into feature data and target data (x and y, respectively)\n",
    "# Extract feature columns"
   ]
  },
  {
   "cell_type": "code",
   "execution_count": 140,
   "id": "0100c717",
   "metadata": {},
   "outputs": [
    {
     "data": {
      "text/html": [
       "<div>\n",
       "<style scoped>\n",
       "    .dataframe tbody tr th:only-of-type {\n",
       "        vertical-align: middle;\n",
       "    }\n",
       "\n",
       "    .dataframe tbody tr th {\n",
       "        vertical-align: top;\n",
       "    }\n",
       "\n",
       "    .dataframe thead th {\n",
       "        text-align: right;\n",
       "    }\n",
       "</style>\n",
       "<table border=\"1\" class=\"dataframe\">\n",
       "  <thead>\n",
       "    <tr style=\"text-align: right;\">\n",
       "      <th></th>\n",
       "      <th>satisfaction_level</th>\n",
       "      <th>last_evaluation</th>\n",
       "      <th>number_project</th>\n",
       "      <th>average_montly_hours</th>\n",
       "      <th>time_spend_company</th>\n",
       "      <th>Work_accident</th>\n",
       "      <th>promotion_last_5years</th>\n",
       "      <th>high</th>\n",
       "      <th>low</th>\n",
       "      <th>medium</th>\n",
       "      <th>...</th>\n",
       "      <th>department_hr</th>\n",
       "      <th>department_management</th>\n",
       "      <th>department_marketing</th>\n",
       "      <th>department_product_mng</th>\n",
       "      <th>department_sales</th>\n",
       "      <th>department_support</th>\n",
       "      <th>department_technical</th>\n",
       "      <th>salary_high</th>\n",
       "      <th>salary_low</th>\n",
       "      <th>salary_medium</th>\n",
       "    </tr>\n",
       "  </thead>\n",
       "  <tbody>\n",
       "    <tr>\n",
       "      <th>0</th>\n",
       "      <td>0.38</td>\n",
       "      <td>0.53</td>\n",
       "      <td>2</td>\n",
       "      <td>157</td>\n",
       "      <td>3</td>\n",
       "      <td>0</td>\n",
       "      <td>0</td>\n",
       "      <td>0</td>\n",
       "      <td>1</td>\n",
       "      <td>0</td>\n",
       "      <td>...</td>\n",
       "      <td>0</td>\n",
       "      <td>0</td>\n",
       "      <td>0</td>\n",
       "      <td>0</td>\n",
       "      <td>1</td>\n",
       "      <td>0</td>\n",
       "      <td>0</td>\n",
       "      <td>0</td>\n",
       "      <td>1</td>\n",
       "      <td>0</td>\n",
       "    </tr>\n",
       "    <tr>\n",
       "      <th>1</th>\n",
       "      <td>0.80</td>\n",
       "      <td>0.86</td>\n",
       "      <td>5</td>\n",
       "      <td>262</td>\n",
       "      <td>6</td>\n",
       "      <td>0</td>\n",
       "      <td>0</td>\n",
       "      <td>0</td>\n",
       "      <td>0</td>\n",
       "      <td>1</td>\n",
       "      <td>...</td>\n",
       "      <td>0</td>\n",
       "      <td>0</td>\n",
       "      <td>0</td>\n",
       "      <td>0</td>\n",
       "      <td>1</td>\n",
       "      <td>0</td>\n",
       "      <td>0</td>\n",
       "      <td>0</td>\n",
       "      <td>0</td>\n",
       "      <td>1</td>\n",
       "    </tr>\n",
       "    <tr>\n",
       "      <th>2</th>\n",
       "      <td>0.11</td>\n",
       "      <td>0.88</td>\n",
       "      <td>7</td>\n",
       "      <td>272</td>\n",
       "      <td>4</td>\n",
       "      <td>0</td>\n",
       "      <td>0</td>\n",
       "      <td>0</td>\n",
       "      <td>0</td>\n",
       "      <td>1</td>\n",
       "      <td>...</td>\n",
       "      <td>0</td>\n",
       "      <td>0</td>\n",
       "      <td>0</td>\n",
       "      <td>0</td>\n",
       "      <td>1</td>\n",
       "      <td>0</td>\n",
       "      <td>0</td>\n",
       "      <td>0</td>\n",
       "      <td>0</td>\n",
       "      <td>1</td>\n",
       "    </tr>\n",
       "    <tr>\n",
       "      <th>3</th>\n",
       "      <td>0.72</td>\n",
       "      <td>0.87</td>\n",
       "      <td>5</td>\n",
       "      <td>223</td>\n",
       "      <td>5</td>\n",
       "      <td>0</td>\n",
       "      <td>0</td>\n",
       "      <td>0</td>\n",
       "      <td>1</td>\n",
       "      <td>0</td>\n",
       "      <td>...</td>\n",
       "      <td>0</td>\n",
       "      <td>0</td>\n",
       "      <td>0</td>\n",
       "      <td>0</td>\n",
       "      <td>1</td>\n",
       "      <td>0</td>\n",
       "      <td>0</td>\n",
       "      <td>0</td>\n",
       "      <td>1</td>\n",
       "      <td>0</td>\n",
       "    </tr>\n",
       "    <tr>\n",
       "      <th>4</th>\n",
       "      <td>0.37</td>\n",
       "      <td>0.52</td>\n",
       "      <td>2</td>\n",
       "      <td>159</td>\n",
       "      <td>3</td>\n",
       "      <td>0</td>\n",
       "      <td>0</td>\n",
       "      <td>0</td>\n",
       "      <td>1</td>\n",
       "      <td>0</td>\n",
       "      <td>...</td>\n",
       "      <td>0</td>\n",
       "      <td>0</td>\n",
       "      <td>0</td>\n",
       "      <td>0</td>\n",
       "      <td>1</td>\n",
       "      <td>0</td>\n",
       "      <td>0</td>\n",
       "      <td>0</td>\n",
       "      <td>1</td>\n",
       "      <td>0</td>\n",
       "    </tr>\n",
       "  </tbody>\n",
       "</table>\n",
       "<p>5 rows × 33 columns</p>\n",
       "</div>"
      ],
      "text/plain": [
       "   satisfaction_level  last_evaluation  number_project  average_montly_hours  \\\n",
       "0                0.38             0.53               2                   157   \n",
       "1                0.80             0.86               5                   262   \n",
       "2                0.11             0.88               7                   272   \n",
       "3                0.72             0.87               5                   223   \n",
       "4                0.37             0.52               2                   159   \n",
       "\n",
       "   time_spend_company  Work_accident  promotion_last_5years  high  low  \\\n",
       "0                   3              0                      0     0    1   \n",
       "1                   6              0                      0     0    0   \n",
       "2                   4              0                      0     0    0   \n",
       "3                   5              0                      0     0    1   \n",
       "4                   3              0                      0     0    1   \n",
       "\n",
       "   medium  ...  department_hr  department_management  department_marketing  \\\n",
       "0       0  ...              0                      0                     0   \n",
       "1       1  ...              0                      0                     0   \n",
       "2       1  ...              0                      0                     0   \n",
       "3       0  ...              0                      0                     0   \n",
       "4       0  ...              0                      0                     0   \n",
       "\n",
       "   department_product_mng  department_sales  department_support  \\\n",
       "0                       0                 1                   0   \n",
       "1                       0                 1                   0   \n",
       "2                       0                 1                   0   \n",
       "3                       0                 1                   0   \n",
       "4                       0                 1                   0   \n",
       "\n",
       "   department_technical  salary_high  salary_low  salary_medium  \n",
       "0                     0            0           1              0  \n",
       "1                     0            0           0              1  \n",
       "2                     0            0           0              1  \n",
       "3                     0            0           1              0  \n",
       "4                     0            0           1              0  \n",
       "\n",
       "[5 rows x 33 columns]"
      ]
     },
     "execution_count": 140,
     "metadata": {},
     "output_type": "execute_result"
    }
   ],
   "source": [
    "x=data.loc[:, data.columns != 'left']\n",
    "x.head()"
   ]
  },
  {
   "cell_type": "code",
   "execution_count": 141,
   "id": "d94dda6a",
   "metadata": {},
   "outputs": [],
   "source": [
    "# Extract target column 'passed'"
   ]
  },
  {
   "cell_type": "code",
   "execution_count": 142,
   "id": "918dd392",
   "metadata": {},
   "outputs": [
    {
     "data": {
      "text/html": [
       "<div>\n",
       "<style scoped>\n",
       "    .dataframe tbody tr th:only-of-type {\n",
       "        vertical-align: middle;\n",
       "    }\n",
       "\n",
       "    .dataframe tbody tr th {\n",
       "        vertical-align: top;\n",
       "    }\n",
       "\n",
       "    .dataframe thead th {\n",
       "        text-align: right;\n",
       "    }\n",
       "</style>\n",
       "<table border=\"1\" class=\"dataframe\">\n",
       "  <thead>\n",
       "    <tr style=\"text-align: right;\">\n",
       "      <th></th>\n",
       "      <th>left</th>\n",
       "    </tr>\n",
       "  </thead>\n",
       "  <tbody>\n",
       "    <tr>\n",
       "      <th>0</th>\n",
       "      <td>1</td>\n",
       "    </tr>\n",
       "    <tr>\n",
       "      <th>1</th>\n",
       "      <td>1</td>\n",
       "    </tr>\n",
       "    <tr>\n",
       "      <th>2</th>\n",
       "      <td>1</td>\n",
       "    </tr>\n",
       "    <tr>\n",
       "      <th>3</th>\n",
       "      <td>1</td>\n",
       "    </tr>\n",
       "    <tr>\n",
       "      <th>4</th>\n",
       "      <td>1</td>\n",
       "    </tr>\n",
       "  </tbody>\n",
       "</table>\n",
       "</div>"
      ],
      "text/plain": [
       "   left\n",
       "0     1\n",
       "1     1\n",
       "2     1\n",
       "3     1\n",
       "4     1"
      ]
     },
     "execution_count": 142,
     "metadata": {},
     "output_type": "execute_result"
    }
   ],
   "source": [
    "y=pd.DataFrame(data['left'])\n",
    "y.head()"
   ]
  },
  {
   "cell_type": "code",
   "execution_count": 34,
   "id": "d4e2cbb3",
   "metadata": {},
   "outputs": [],
   "source": [
    "#Check the pattern of distribution of data in the dataset"
   ]
  },
  {
   "cell_type": "code",
   "execution_count": 35,
   "id": "a8db2324",
   "metadata": {},
   "outputs": [
    {
     "data": {
      "image/png": "[encoded data removed]",
      "text/plain": [
       "<Figure size 432x288 with 1 Axes>"
      ]
     },
     "metadata": {},
     "output_type": "display_data"
    }
   ],
   "source": [
    "import numpy as np\n",
    "import matplotlib.pyplot as plt\n",
    "  \n",
    "# Generating some random data\n",
    "# for an example\n",
    "data = np.random.normal(170, 10, 250)\n",
    "  \n",
    "# Plotting the histogram.\n",
    "plt.hist(data, bins=25, density=True, alpha=0.6, color='b')\n",
    "  \n",
    "plt.show()"
   ]
  },
  {
   "cell_type": "code",
   "execution_count": 36,
   "id": "0c50775a",
   "metadata": {},
   "outputs": [],
   "source": [
    "# The data are skewly distributed, hence it is to be standardized "
   ]
  },
  {
   "cell_type": "code",
   "execution_count": 37,
   "id": "1eae016a",
   "metadata": {},
   "outputs": [],
   "source": [
    "# splitting the data into train and test\n",
    "from sklearn.model_selection import train_test_split\n",
    "x_train,x_test,y_train,y_test=train_test_split(x,y,test_size=0.25,random_state=42)"
   ]
  },
  {
   "cell_type": "code",
   "execution_count": 38,
   "id": "611b7815",
   "metadata": {},
   "outputs": [],
   "source": [
    "from sklearn.preprocessing import StandardScaler\n",
    "scaler = StandardScaler()\n",
    "x_train=scaler.fit_transform(x_train)\n",
    "x_test=scaler.fit_transform(x_test)"
   ]
  },
  {
   "cell_type": "code",
   "execution_count": 39,
   "id": "30c3a97c",
   "metadata": {},
   "outputs": [
    {
     "data": {
      "image/png": "[encoded data removed]",
      "text/plain": [
       "<Figure size 432x288 with 1 Axes>"
      ]
     },
     "metadata": {},
     "output_type": "display_data"
    }
   ],
   "source": [
    "# Plotting the histogram.\n",
    "plt.hist(data, bins=25, density=True, alpha=0.6, color='b')\n",
    "plt.title('histogram after standardization')  \n",
    "plt.show()"
   ]
  },
  {
   "cell_type": "markdown",
   "id": "4a0fbd3e",
   "metadata": {},
   "source": [
    "# Exploratory Data Analysis"
   ]
  },
  {
   "cell_type": "markdown",
   "id": "6b77c4c1",
   "metadata": {},
   "source": [
    "# One-Sample T-Test (Measuring Satisfaction Level)"
   ]
  },
  {
   "cell_type": "markdown",
   "id": "1cee7082",
   "metadata": {},
   "source": [
    "One sample ttest is done to see whether the average satisfaction level of employees that had a turnover differs from the entire employee population."
   ]
  },
  {
   "cell_type": "code",
   "execution_count": 43,
   "id": "d92ae3bc",
   "metadata": {},
   "outputs": [
    {
     "name": "stdout",
     "output_type": "stream",
     "text": [
      "The mean for the employee population is: 0.6128335222348166\n",
      "The mean for the employees that had a turnover is: 0.44009801176140917\n"
     ]
    }
   ],
   "source": [
    "# Let's compare the means of our employee turnover satisfaction against the employee population satisfaction\n",
    "emp_population_satisfaction = data['satisfaction_level'].mean()\n",
    "emp_turnover_satisfaction = data[data['left']==1]['satisfaction_level'].mean()\n",
    "\n",
    "print( 'The mean for the employee population is: ' + str(emp_population_satisfaction) )\n",
    "print( 'The mean for the employees that had a turnover is: ' + str(emp_turnover_satisfaction) )"
   ]
  },
  {
   "cell_type": "code",
   "execution_count": 44,
   "id": "a75a83a4",
   "metadata": {},
   "outputs": [],
   "source": [
    "#conducting a t-test at 95% confidence level and see if it correctly rejects the null hypothesis that the sample comes from \n",
    "#the same distribution as the employee population"
   ]
  },
  {
   "cell_type": "code",
   "execution_count": 45,
   "id": "84458f2c",
   "metadata": {},
   "outputs": [
    {
     "data": {
      "text/plain": [
       "Ttest_1sampResult(statistic=-39.10948894348446, pvalue=9.012781195378076e-279)"
      ]
     },
     "execution_count": 45,
     "metadata": {},
     "output_type": "execute_result"
    }
   ],
   "source": [
    "import scipy.stats as stats\n",
    "stats.ttest_1samp(a=  data[data['left']==1]['satisfaction_level'], # Sample of Employee satisfaction who had a Turnover\n",
    "                  popmean = emp_population_satisfaction)  # Employee Population satisfaction mean"
   ]
  },
  {
   "cell_type": "markdown",
   "id": "3cf64ec3",
   "metadata": {},
   "source": [
    "The test result shows the test statistic \"t\" is equal to -39.109. This test statistic tells us how much the sample mean deviates from the null hypothesis. If the t-statistic lies outside the quantiles of the t-distribution corresponding to our confidence level and degrees of freedom, we reject the null hypothesis."
   ]
  },
  {
   "cell_type": "code",
   "execution_count": 46,
   "id": "30d2c11d",
   "metadata": {},
   "outputs": [],
   "source": [
    "#T-Test Quantile\n",
    "#If the t-statistic value we calculated above (-39.109) is outside the quantiles, then we can reject the null hypothesis"
   ]
  },
  {
   "cell_type": "code",
   "execution_count": 47,
   "id": "5ea66632",
   "metadata": {},
   "outputs": [
    {
     "name": "stdout",
     "output_type": "stream",
     "text": [
      "The t-distribution left quartile range is: -1.9606285215955626\n",
      "The t-distribution right quartile range is: 1.9606285215955621\n"
     ]
    }
   ],
   "source": [
    "degree_freedom = len(data[data['left']==1])\n",
    "\n",
    "LQ = stats.t.ppf(0.025,degree_freedom)  # Left Quartile\n",
    "\n",
    "RQ = stats.t.ppf(0.975,degree_freedom)  # Right Quartile\n",
    "\n",
    "print ('The t-distribution left quartile range is: ' + str(LQ))\n",
    "print ('The t-distribution right quartile range is: ' + str(RQ))"
   ]
  },
  {
   "cell_type": "markdown",
   "id": "b4e1e1b7",
   "metadata": {},
   "source": [
    "\n",
    "\n",
    "Reject the null hypothesis because:\n",
    "\n",
    "T-Test score is outside the quantiles P-value is lower than confidence level of 5%\n",
    "\n",
    "Based on the statistical analysis of a one sample t-test, there seems to be some significant difference between the mean satisfaction of employees who had a turnover and the entire employee population. The super low P-value of 9.012e-279 at a 5% confidence level is a good indicator to reject the null hypothesis.\n"
   ]
  },
  {
   "cell_type": "code",
   "execution_count": 48,
   "id": "a7606138",
   "metadata": {},
   "outputs": [],
   "source": [
    "#Correlation Analysis\n",
    "#The correlation is a very useful statitiscal analysis that describes the degree of relationship between two variables"
   ]
  },
  {
   "cell_type": "code",
   "execution_count": 49,
   "id": "a3f03064",
   "metadata": {},
   "outputs": [
    {
     "data": {
      "image/png": "[encoded data removed]",
      "text/plain": [
       "<Figure size 864x576 with 2 Axes>"
      ]
     },
     "metadata": {},
     "output_type": "display_data"
    }
   ],
   "source": [
    "plt.figure(figsize=(12,8))\n",
    "sns.heatmap(data.corr(),cmap='RdBu',annot=True)\n",
    "plt.tight_layout()"
   ]
  },
  {
   "cell_type": "markdown",
   "id": "fdc456c4",
   "metadata": {},
   "source": [
    "\n",
    "\n",
    "From the heat map following inferences could be arrived:\n",
    "\n",
    "There is Negative correlation of (-0.39) between satisfaction_level and the employees that left the company. The highest positive correlation is between number of projects and average monthly hours (0.42). Last_evaluation is high correlated to number_project(0.35)and average_monthly_hours(0.34). Work_accident have a low negative correlation(-0.15)and salary (-0.16) with employees that left.\n"
   ]
  },
  {
   "cell_type": "markdown",
   "id": "cf453c0a",
   "metadata": {},
   "source": [
    "# Univariate Analysis"
   ]
  },
  {
   "cell_type": "markdown",
   "id": "e1036691",
   "metadata": {},
   "source": [
    "How many employees left the company?"
   ]
  },
  {
   "cell_type": "code",
   "execution_count": 50,
   "id": "f7e36a94",
   "metadata": {},
   "outputs": [
    {
     "name": "stderr",
     "output_type": "stream",
     "text": [
      "C:\\Users\\User\\anaconda3\\lib\\site-packages\\seaborn\\_decorators.py:36: FutureWarning: Pass the following variable as a keyword arg: x. From version 0.12, the only valid positional argument will be `data`, and passing other arguments without an explicit keyword will result in an error or misinterpretation.\n",
      "  warnings.warn(\n"
     ]
    },
    {
     "data": {
      "image/png": "[encoded data removed]",
      "text/plain": [
       "<Figure size 720x360 with 1 Axes>"
      ]
     },
     "metadata": {},
     "output_type": "display_data"
    }
   ],
   "source": [
    "sns.set_style('whitegrid')\n",
    "plt.figure(figsize = (10,5))\n",
    "sns.countplot(data['left'],palette = ['grey','red'], alpha =.80).set_title('Quit vs Did Not Quit')\n",
    "plt.show()"
   ]
  },
  {
   "cell_type": "code",
   "execution_count": 51,
   "id": "2d3bb158",
   "metadata": {},
   "outputs": [
    {
     "name": "stdout",
     "output_type": "stream",
     "text": [
      "Employees That Left: 3571\n",
      "Employees That Have Not Left: 11428\n"
     ]
    }
   ],
   "source": [
    "print('Employees That Left:', len(data[data['left']==1]))\n",
    "print('Employees That Have Not Left:', len(data[data['left']==0]))"
   ]
  },
  {
   "cell_type": "markdown",
   "id": "c4b53465",
   "metadata": {},
   "source": [
    "Here, we can see out of 15,000 approx 3,571 were left, and 11,428 stayed. The no of employee left is 23 % of the total employment."
   ]
  },
  {
   "cell_type": "markdown",
   "id": "ec66c559",
   "metadata": {},
   "source": [
    "# Numeric Features v Target Variable"
   ]
  },
  {
   "cell_type": "code",
   "execution_count": 52,
   "id": "0beea407",
   "metadata": {},
   "outputs": [
    {
     "data": {
      "text/html": [
       "<div>\n",
       "<style scoped>\n",
       "    .dataframe tbody tr th:only-of-type {\n",
       "        vertical-align: middle;\n",
       "    }\n",
       "\n",
       "    .dataframe tbody tr th {\n",
       "        vertical-align: top;\n",
       "    }\n",
       "\n",
       "    .dataframe thead th {\n",
       "        text-align: right;\n",
       "    }\n",
       "</style>\n",
       "<table border=\"1\" class=\"dataframe\">\n",
       "  <thead>\n",
       "    <tr style=\"text-align: right;\">\n",
       "      <th></th>\n",
       "      <th>count</th>\n",
       "      <th>mean</th>\n",
       "      <th>std</th>\n",
       "      <th>min</th>\n",
       "      <th>25%</th>\n",
       "      <th>50%</th>\n",
       "      <th>75%</th>\n",
       "      <th>max</th>\n",
       "    </tr>\n",
       "  </thead>\n",
       "  <tbody>\n",
       "    <tr>\n",
       "      <th>satisfaction_level</th>\n",
       "      <td>11428.0</td>\n",
       "      <td>0.666810</td>\n",
       "      <td>0.217104</td>\n",
       "      <td>0.12</td>\n",
       "      <td>0.54</td>\n",
       "      <td>0.69</td>\n",
       "      <td>0.84</td>\n",
       "      <td>1.0</td>\n",
       "    </tr>\n",
       "    <tr>\n",
       "      <th>last_evaluation</th>\n",
       "      <td>11428.0</td>\n",
       "      <td>0.715473</td>\n",
       "      <td>0.162005</td>\n",
       "      <td>0.36</td>\n",
       "      <td>0.58</td>\n",
       "      <td>0.71</td>\n",
       "      <td>0.85</td>\n",
       "      <td>1.0</td>\n",
       "    </tr>\n",
       "    <tr>\n",
       "      <th>number_project</th>\n",
       "      <td>11428.0</td>\n",
       "      <td>3.786664</td>\n",
       "      <td>0.979884</td>\n",
       "      <td>2.00</td>\n",
       "      <td>3.00</td>\n",
       "      <td>4.00</td>\n",
       "      <td>4.00</td>\n",
       "      <td>6.0</td>\n",
       "    </tr>\n",
       "    <tr>\n",
       "      <th>average_montly_hours</th>\n",
       "      <td>11428.0</td>\n",
       "      <td>199.060203</td>\n",
       "      <td>45.682731</td>\n",
       "      <td>96.00</td>\n",
       "      <td>162.00</td>\n",
       "      <td>198.00</td>\n",
       "      <td>238.00</td>\n",
       "      <td>287.0</td>\n",
       "    </tr>\n",
       "    <tr>\n",
       "      <th>time_spend_company</th>\n",
       "      <td>11428.0</td>\n",
       "      <td>3.380032</td>\n",
       "      <td>1.562348</td>\n",
       "      <td>2.00</td>\n",
       "      <td>2.00</td>\n",
       "      <td>3.00</td>\n",
       "      <td>4.00</td>\n",
       "      <td>10.0</td>\n",
       "    </tr>\n",
       "  </tbody>\n",
       "</table>\n",
       "</div>"
      ],
      "text/plain": [
       "                        count        mean        std    min     25%     50%  \\\n",
       "satisfaction_level    11428.0    0.666810   0.217104   0.12    0.54    0.69   \n",
       "last_evaluation       11428.0    0.715473   0.162005   0.36    0.58    0.71   \n",
       "number_project        11428.0    3.786664   0.979884   2.00    3.00    4.00   \n",
       "average_montly_hours  11428.0  199.060203  45.682731  96.00  162.00  198.00   \n",
       "time_spend_company    11428.0    3.380032   1.562348   2.00    2.00    3.00   \n",
       "\n",
       "                         75%    max  \n",
       "satisfaction_level      0.84    1.0  \n",
       "last_evaluation         0.85    1.0  \n",
       "number_project          4.00    6.0  \n",
       "average_montly_hours  238.00  287.0  \n",
       "time_spend_company      4.00   10.0  "
      ]
     },
     "execution_count": 52,
     "metadata": {},
     "output_type": "execute_result"
    }
   ],
   "source": [
    "# Statistical summary of employees that did not quit\n",
    "data[data['left']==0].describe().transpose().head()"
   ]
  },
  {
   "cell_type": "markdown",
   "id": "e01fd3ba",
   "metadata": {},
   "source": [
    "\n",
    "\n",
    "Employees That Stay\n",
    "\n",
    "The median satisfaction level of employees that quit is approx. 69%. They have 4 projects and work 198 hours a month, on average (49.5 hours/week). The average tenure of these individuals is 4 years.\n"
   ]
  },
  {
   "cell_type": "code",
   "execution_count": 53,
   "id": "6329c81f",
   "metadata": {},
   "outputs": [
    {
     "data": {
      "text/html": [
       "<div>\n",
       "<style scoped>\n",
       "    .dataframe tbody tr th:only-of-type {\n",
       "        vertical-align: middle;\n",
       "    }\n",
       "\n",
       "    .dataframe tbody tr th {\n",
       "        vertical-align: top;\n",
       "    }\n",
       "\n",
       "    .dataframe thead th {\n",
       "        text-align: right;\n",
       "    }\n",
       "</style>\n",
       "<table border=\"1\" class=\"dataframe\">\n",
       "  <thead>\n",
       "    <tr style=\"text-align: right;\">\n",
       "      <th></th>\n",
       "      <th>count</th>\n",
       "      <th>mean</th>\n",
       "      <th>std</th>\n",
       "      <th>min</th>\n",
       "      <th>25%</th>\n",
       "      <th>50%</th>\n",
       "      <th>75%</th>\n",
       "      <th>max</th>\n",
       "    </tr>\n",
       "  </thead>\n",
       "  <tbody>\n",
       "    <tr>\n",
       "      <th>satisfaction_level</th>\n",
       "      <td>3571.0</td>\n",
       "      <td>0.440098</td>\n",
       "      <td>0.263933</td>\n",
       "      <td>0.09</td>\n",
       "      <td>0.13</td>\n",
       "      <td>0.41</td>\n",
       "      <td>0.73</td>\n",
       "      <td>0.92</td>\n",
       "    </tr>\n",
       "    <tr>\n",
       "      <th>last_evaluation</th>\n",
       "      <td>3571.0</td>\n",
       "      <td>0.718113</td>\n",
       "      <td>0.197673</td>\n",
       "      <td>0.45</td>\n",
       "      <td>0.52</td>\n",
       "      <td>0.79</td>\n",
       "      <td>0.90</td>\n",
       "      <td>1.00</td>\n",
       "    </tr>\n",
       "    <tr>\n",
       "      <th>number_project</th>\n",
       "      <td>3571.0</td>\n",
       "      <td>3.855503</td>\n",
       "      <td>1.818165</td>\n",
       "      <td>2.00</td>\n",
       "      <td>2.00</td>\n",
       "      <td>4.00</td>\n",
       "      <td>6.00</td>\n",
       "      <td>7.00</td>\n",
       "    </tr>\n",
       "    <tr>\n",
       "      <th>average_montly_hours</th>\n",
       "      <td>3571.0</td>\n",
       "      <td>207.419210</td>\n",
       "      <td>61.202825</td>\n",
       "      <td>126.00</td>\n",
       "      <td>146.00</td>\n",
       "      <td>224.00</td>\n",
       "      <td>262.00</td>\n",
       "      <td>310.00</td>\n",
       "    </tr>\n",
       "    <tr>\n",
       "      <th>time_spend_company</th>\n",
       "      <td>3571.0</td>\n",
       "      <td>3.876505</td>\n",
       "      <td>0.977698</td>\n",
       "      <td>2.00</td>\n",
       "      <td>3.00</td>\n",
       "      <td>4.00</td>\n",
       "      <td>5.00</td>\n",
       "      <td>6.00</td>\n",
       "    </tr>\n",
       "  </tbody>\n",
       "</table>\n",
       "</div>"
      ],
      "text/plain": [
       "                       count        mean        std     min     25%     50%  \\\n",
       "satisfaction_level    3571.0    0.440098   0.263933    0.09    0.13    0.41   \n",
       "last_evaluation       3571.0    0.718113   0.197673    0.45    0.52    0.79   \n",
       "number_project        3571.0    3.855503   1.818165    2.00    2.00    4.00   \n",
       "average_montly_hours  3571.0  207.419210  61.202825  126.00  146.00  224.00   \n",
       "time_spend_company    3571.0    3.876505   0.977698    2.00    3.00    4.00   \n",
       "\n",
       "                         75%     max  \n",
       "satisfaction_level      0.73    0.92  \n",
       "last_evaluation         0.90    1.00  \n",
       "number_project          6.00    7.00  \n",
       "average_montly_hours  262.00  310.00  \n",
       "time_spend_company      5.00    6.00  "
      ]
     },
     "execution_count": 53,
     "metadata": {},
     "output_type": "execute_result"
    }
   ],
   "source": [
    "# Stat summary of employees that quit\n",
    "data[data['left']== 1].describe().transpose().head()"
   ]
  },
  {
   "cell_type": "markdown",
   "id": "a2a064c0",
   "metadata": {},
   "source": [
    "\n",
    "\n",
    "Employees that Quit\n",
    "\n",
    "The median satisfaction level is just 41% and clock in 224 hours a month (~56 hours/week). There are no employees that quit after 6 years of tenure.\n"
   ]
  },
  {
   "cell_type": "code",
   "execution_count": 54,
   "id": "9245e16e",
   "metadata": {},
   "outputs": [
    {
     "data": {
      "image/png": "[encoded data removed]",
      "text/plain": [
       "<Figure size 1152x720 with 5 Axes>"
      ]
     },
     "metadata": {},
     "output_type": "display_data"
    }
   ],
   "source": [
    "# Subplots of Numeric Features\n",
    "sns.set_style('darkgrid')\n",
    "fig = plt.figure(figsize = (16,10))\n",
    "\n",
    "ax1 = fig.add_subplot(321)\n",
    "ax1.hist(data[data['left'] ==0].satisfaction_level, bins = 15, label ='Not Quit', alpha = .50,edgecolor= 'black',color ='grey')\n",
    "ax1.hist(data[data['left']==1].satisfaction_level, bins = 15, label = 'Quit', alpha = .50, edgecolor = 'black',color = 'red')\n",
    "ax1.set_title('Satisfaction Level of Employees that Quit vs Did Not Quit')\n",
    "ax1.legend(loc = 'upper left')\n",
    "\n",
    "ax2 = fig.add_subplot(323)\n",
    "ax2.hist(data[data['left']==0].last_evaluation, bins = 15, label = 'Not Quit', alpha = .50, edgecolor ='black', color = 'grey')\n",
    "ax2.hist(data[data['left']==1].last_evaluation, bins = 15, label = 'Quit', alpha = .50, edgecolor = 'black',color ='red')\n",
    "ax2.set_title('Last Evaluation of Employees that Quit vs Not Quit')\n",
    "ax2.legend(loc = 'upper left')\n",
    "\n",
    "ax3 = fig.add_subplot(325)\n",
    "ax3.hist(data[data['left']==0].average_montly_hours, bins = 15, label = 'Not Quit', alpha = .50, edgecolor = 'black', color = 'grey')\n",
    "ax3.hist(data[data['left']==1].average_montly_hours, bins= 15, label = 'Quit', alpha = .50, edgecolor = 'black', color ='red')\n",
    "ax3.set_title('Average Monthly Hours of Employees that Quit vs Did Not Quit')\n",
    "ax3.legend(loc = 'upper left')\n",
    "\n",
    "ax4 = fig.add_subplot(222)\n",
    "ax4.hist(data[data['left']==0].number_project, bins = 15, label = 'Not Quit', alpha = .50, edgecolor = 'black', color = 'grey')\n",
    "ax4.hist(data[data['left']==1].number_project, bins = 15, label = 'Quit', alpha = .50, edgecolor = 'black', color = 'red')\n",
    "ax4.set_title('Number of Projects by Employees that Quit vs Not Quit')\n",
    "ax4.legend(loc = 'upper right')\n",
    "\n",
    "ax5 = fig.add_subplot(224)\n",
    "ax5.hist(data[data['left']==0].time_spend_company, bins = 15, label = 'Not Quit', alpha = .50, edgecolor = 'black', color = 'grey')\n",
    "ax5.hist(data[data['left']==1].time_spend_company, bins = 15, label = 'Quit', alpha = .50, edgecolor = 'black', color = 'red')\n",
    "ax5.set_title('Time At Company of Employees that Quit vs Not Quit')\n",
    "ax5.legend(loc = 'upper right')\n",
    "plt.show()"
   ]
  },
  {
   "cell_type": "markdown",
   "id": "3a13e64f",
   "metadata": {},
   "source": [
    "\n",
    "\n",
    "Additional Insights On Numeric Features\n",
    "\n",
    "Of the employees that quit, most reported a satisfaction level of just 40%. The majority of employees that stayed with the company had a satisfaction level around 60%.\n",
    "\n",
    "The distributions of the Last Evaluation and Average Monthly Hours variables for employees that quit appear to be bi-modal, which could be an indication of additional sub-groups present within the datset.\n",
    "\n",
    "The majority of employees that quit had just two projects. Most employees that stay with the company have 3 or 4 projects.\n",
    "\n",
    "There are no employees that quit after they've been there longer than 6 years. Most employees that leave the company do so around the 3 year mark.\n"
   ]
  },
  {
   "cell_type": "markdown",
   "id": "0eb5d10c",
   "metadata": {},
   "source": [
    "# Categorical Features vs Target Variable"
   ]
  },
  {
   "cell_type": "markdown",
   "id": "50825379",
   "metadata": {},
   "source": [
    "# Work Accidents"
   ]
  },
  {
   "cell_type": "code",
   "execution_count": 55,
   "id": "dd3b12e0",
   "metadata": {},
   "outputs": [
    {
     "data": {
      "image/png": "[encoded data removed]",
      "text/plain": [
       "<Figure size 432x288 with 1 Axes>"
      ]
     },
     "metadata": {},
     "output_type": "display_data"
    }
   ],
   "source": [
    "accident = data.groupby(['Work_accident','left']).Work_accident.count().unstack()\n",
    "p1 = accident.plot(kind = 'bar', stacked = True, \n",
    "                   title = 'Work Accidents Of Employees That Quit vs Did Not Quit', \n",
    "                   color = ['grey','red'], alpha = .70)\n",
    "p1.set_xlabel('Work Accident')\n",
    "p1.set_ylabel('# Employees')\n",
    "p1.legend(['Not Quit','Quit'])\n",
    "plt.show()"
   ]
  },
  {
   "cell_type": "code",
   "execution_count": 56,
   "id": "01c44187",
   "metadata": {},
   "outputs": [
    {
     "name": "stdout",
     "output_type": "stream",
     "text": [
      "2169\n",
      "14.46096406427095\n",
      "169\n"
     ]
    }
   ],
   "source": [
    "print(data.Work_accident.sum())\n",
    "print(data.Work_accident.mean()*100)\n",
    "print((data[data['left']==1]['Work_accident']).sum())"
   ]
  },
  {
   "cell_type": "markdown",
   "id": "e87be759",
   "metadata": {},
   "source": [
    "# Promotions"
   ]
  },
  {
   "cell_type": "code",
   "execution_count": 57,
   "id": "cbb7f375",
   "metadata": {},
   "outputs": [
    {
     "data": {
      "image/png": "[encoded data removed]",
      "text/plain": [
       "<Figure size 432x288 with 1 Axes>"
      ]
     },
     "metadata": {},
     "output_type": "display_data"
    }
   ],
   "source": [
    "promotion = data.groupby(['promotion_last_5years','left']).promotion_last_5years.count().unstack()\n",
    "p2 = promotion.plot(kind = 'bar', stacked = True, \n",
    "                    title = 'Promotions Of Employees That Quit vs Did Not Quit', \n",
    "                    color = ['grey','red'], alpha = .70)\n",
    "p2.set_xlabel('Promotion Last 5 years')\n",
    "p2.set_ylabel('# Employees')\n",
    "p2.legend(['Not Quit','Quit'])\n",
    "plt.show()"
   ]
  },
  {
   "cell_type": "code",
   "execution_count": 58,
   "id": "1e580a7f",
   "metadata": {},
   "outputs": [
    {
     "name": "stdout",
     "output_type": "stream",
     "text": [
      "319\n",
      "0.021268084538969265\n"
     ]
    }
   ],
   "source": [
    "print(data.promotion_last_5years.sum())\n",
    "print(data.promotion_last_5years.mean())"
   ]
  },
  {
   "cell_type": "markdown",
   "id": "674a9d62",
   "metadata": {},
   "source": [
    "# Departments"
   ]
  },
  {
   "cell_type": "code",
   "execution_count": 64,
   "id": "d70de53f",
   "metadata": {},
   "outputs": [],
   "source": [
    "# Abbreviate sales categories\n",
    "data['sales'].unique()\n",
    "data['sales'] = data['sales'].map({'sales': 'S','accounting':'ACC','hr':'HR','technical':'TECH', \n",
    "                                         'support':'SUP', 'management':'MGMT', 'IT':'IT','product_mng':'PM',\n",
    "                                         'marketing':'MKT', 'RandD':'RD'})"
   ]
  },
  {
   "cell_type": "code",
   "execution_count": 65,
   "id": "8c03d9a9",
   "metadata": {},
   "outputs": [
    {
     "data": {
      "image/png": "[encoded data removed]",
      "text/plain": [
       "<Figure size 432x288 with 1 Axes>"
      ]
     },
     "metadata": {},
     "output_type": "display_data"
    }
   ],
   "source": [
    "salesdept = data.groupby(['sales','left']).sales.count().unstack()\n",
    "p3 = salesdept.plot(kind = 'bar', stacked = True, \n",
    "                    title = 'Departments of Employees that Quit vs Did Not Quit', \n",
    "                    color = ['grey','red'], alpha = .70)\n",
    "p3.set_xlabel('Department')\n",
    "p3.set_ylabel('# Employees')\n",
    "p2.legend(['Not Quit', 'Quit'])\n",
    "plt.show()"
   ]
  },
  {
   "cell_type": "code",
   "execution_count": 69,
   "id": "90fbf9b7",
   "metadata": {},
   "outputs": [
    {
     "data": {
      "text/plain": [
       "sales          27.601840\n",
       "technical      18.134542\n",
       "support        14.860991\n",
       "IT              8.180545\n",
       "product_mng     6.013734\n",
       "marketing       5.720381\n",
       "RandD           5.247016\n",
       "accounting      5.113674\n",
       "hr              4.926995\n",
       "management      4.200280\n",
       "Name: department, dtype: float64"
      ]
     },
     "execution_count": 69,
     "metadata": {},
     "output_type": "execute_result"
    }
   ],
   "source": [
    "data['department'].value_counts()/len(data)*100"
   ]
  },
  {
   "cell_type": "markdown",
   "id": "f54be66f",
   "metadata": {},
   "source": [
    "# Salary Levels"
   ]
  },
  {
   "cell_type": "code",
   "execution_count": 70,
   "id": "24a2b97d",
   "metadata": {},
   "outputs": [
    {
     "data": {
      "image/png": "[encoded data removed]",
      "text/plain": [
       "<Figure size 432x288 with 1 Axes>"
      ]
     },
     "metadata": {},
     "output_type": "display_data"
    }
   ],
   "source": [
    "salary = data.groupby(['salary','left']).salary.count().unstack()\n",
    "p4 = salary.plot(kind = 'bar', stacked = True,\n",
    "                 title = 'Salary Level of Employees that Quit vs Did Not Quit', \n",
    "                 color = ['grey','red'], alpha = .70)\n",
    "p4.set_xlabel('Salary Level')\n",
    "p4.set_ylabel('# Employees')\n",
    "plt.show()"
   ]
  },
  {
   "cell_type": "markdown",
   "id": "97d75d25",
   "metadata": {},
   "source": [
    "\n",
    "\n",
    "Categorical Variable Insights\n",
    "\n",
    "A small proportion of employees who suffered a work accident end up quitting. All the employees that quit have not had a promotion in the last 5 years. Among the employees that left, a greater proportion work in Sales, Tech, and Support Departments. A very low proportion of high salaried employees quit.\n",
    "\n",
    "EDA CONCLUSIONS: Features that greatly influence a person's likelihood of leaving the company are as follows:\n",
    "\n",
    "Salary: Not surprisingly, a very small proportion of high salaried employees leave the company. There is a higher proportion of employees that quit among the mid or low salary groups.\n",
    "\n",
    "Time with Company: The three year mark seems to be a critical point in an employee's career. Individuals who are going to quit, tend do so around the three year mark with the company. Once a person reaches 6 years of tenure, they are very unlikely to leave at that point.\n",
    "\n",
    "Number Of Projects: In addition to tenure, employee engagement is another contributing factor to a person's likelihood of leaving the company. Employees that quit are assigned to a low number of projects relative to their colleagues that work on many projects and tend to stay with the company.\n",
    "\n",
    "Promotions: Whether an employee is moving up in the organization is also a feature of interest. Employees are far more likely to quit if they haven't recevied a promotion in the last 5 years.\n",
    "\n",
    "Department: Individuals that works in Sales, Tech, or Support Departments has a greater likelihood of leaving the company relative to employees of other departments.\n"
   ]
  },
  {
   "cell_type": "markdown",
   "id": "179553f5",
   "metadata": {},
   "source": [
    "# Logistic Regression"
   ]
  },
  {
   "cell_type": "code",
   "execution_count": 143,
   "id": "89f3f4c2",
   "metadata": {},
   "outputs": [],
   "source": [
    "import numpy as np\n",
    "import matplotlib.pyplot as plt"
   ]
  },
  {
   "cell_type": "code",
   "execution_count": 144,
   "id": "60660205",
   "metadata": {},
   "outputs": [],
   "source": [
    "# splitting the data into train and test\n",
    "from sklearn.model_selection import train_test_split\n",
    "x_train,x_test,y_train,y_test=train_test_split(x,y,test_size=0.25,random_state=42)"
   ]
  },
  {
   "cell_type": "code",
   "execution_count": 145,
   "id": "748b4aa4",
   "metadata": {},
   "outputs": [],
   "source": [
    "from sklearn.preprocessing import StandardScaler\n",
    "scaler = StandardScaler()\n",
    "x_train=scaler.fit_transform(x_train)\n",
    "x_test=scaler.fit_transform(x_test)"
   ]
  },
  {
   "cell_type": "code",
   "execution_count": 146,
   "id": "948758c6",
   "metadata": {},
   "outputs": [],
   "source": [
    "# LogisticRegression of data\n",
    "from sklearn.linear_model import LogisticRegression\n",
    "from sklearn.model_selection import train_test_split\n",
    "from sklearn.metrics import confusion_matrix,accuracy_score\n",
    "from sklearn.metrics import classification_report, confusion_matrix, accuracy_score,f1_score, precision_score, recall_score"
   ]
  },
  {
   "cell_type": "code",
   "execution_count": 147,
   "id": "502f9a6a",
   "metadata": {},
   "outputs": [],
   "source": [
    "#Spilting data into test and train split:\n",
    "x=data.drop(['left'],axis=1)\n",
    "y=data['left']"
   ]
  },
  {
   "cell_type": "code",
   "execution_count": 148,
   "id": "61958c95",
   "metadata": {},
   "outputs": [
    {
     "name": "stdout",
     "output_type": "stream",
     "text": [
      "[[2102  160]\n",
      " [ 467  271]]\n",
      "              precision    recall  f1-score   support\n",
      "\n",
      "           0       0.82      0.93      0.87      2262\n",
      "           1       0.63      0.37      0.46       738\n",
      "\n",
      "    accuracy                           0.79      3000\n",
      "   macro avg       0.72      0.65      0.67      3000\n",
      "weighted avg       0.77      0.79      0.77      3000\n",
      "\n",
      "Accuracy 79.10000000000001 %\n"
     ]
    }
   ],
   "source": [
    "from sklearn.model_selection import train_test_split\n",
    "x_train, x_test, y_train, y_test = train_test_split(x, y, test_size=0.20, random_state= 101)\n",
    "\n",
    "# Import model\n",
    "from sklearn.linear_model import LogisticRegression\n",
    "\n",
    "# Create instance of model\n",
    "classifier = LogisticRegression(max_iter=10000)\n",
    "\n",
    "# Fit to training set\n",
    "classifier.fit(x_train,y_train) \n",
    "# Predict\n",
    "y_pred = classifier.predict(x_test)\n",
    "\n",
    "# Create confusion matrix\n",
    "print(confusion_matrix(y_test,y_pred))  \n",
    "\n",
    "# Create classification report\n",
    "print(classification_report(y_test,y_pred))\n",
    "\n",
    "# Accuracy score\n",
    "print('Accuracy',accuracy_score(y_test, y_pred)*100,'%')"
   ]
  },
  {
   "cell_type": "code",
   "execution_count": 149,
   "id": "d90498c8",
   "metadata": {},
   "outputs": [
    {
     "name": "stdout",
     "output_type": "stream",
     "text": [
      "RMSE test set: 0.46\n"
     ]
    }
   ],
   "source": [
    "from sklearn.metrics import mean_squared_error\n",
    "MSE=mean_squared_error\n",
    "classifier.fit(x_train,y_train)\n",
    "pred_y = classifier.predict(x_test)\n",
    "test_rmse = MSE(y_test,y_pred) ** (1 / 2)\n",
    "print('RMSE test set: {:.2f}'.format(test_rmse))"
   ]
  },
  {
   "cell_type": "markdown",
   "id": "42b5185b",
   "metadata": {},
   "source": [
    "# Decision Tree Classifier"
   ]
  },
  {
   "cell_type": "code",
   "execution_count": 150,
   "id": "0a429beb",
   "metadata": {},
   "outputs": [],
   "source": [
    "#Spilting data into test and train split:\n",
    "x=data.drop(['left'],axis=1)\n",
    "y=data['left']"
   ]
  },
  {
   "cell_type": "code",
   "execution_count": 151,
   "id": "79abf612",
   "metadata": {},
   "outputs": [],
   "source": [
    "# splitting the data into train and test\n",
    "from sklearn.model_selection import train_test_split\n",
    "x_train,x_test,y_train,y_test=train_test_split(x,y,test_size=0.25,random_state=42)"
   ]
  },
  {
   "cell_type": "code",
   "execution_count": 152,
   "id": "6347141b",
   "metadata": {},
   "outputs": [],
   "source": [
    "from sklearn.preprocessing import StandardScaler\n",
    "scaler = StandardScaler()\n",
    "x_train=scaler.fit_transform(x_train)\n",
    "x_test=scaler.fit_transform(x_test)"
   ]
  },
  {
   "cell_type": "code",
   "execution_count": 153,
   "id": "80227cba",
   "metadata": {},
   "outputs": [
    {
     "name": "stdout",
     "output_type": "stream",
     "text": [
      "Area under ROC curve: 0.953796\n"
     ]
    }
   ],
   "source": [
    "from sklearn.tree import DecisionTreeClassifier\n",
    "from sklearn.ensemble import AdaBoostClassifier\n",
    "from sklearn.metrics import roc_auc_score\n",
    "#DecisionTreeClassifier\n",
    "dt=DecisionTreeClassifier(max_depth=3,min_samples_leaf=int(0.05*len(x_train)),random_state=19)\n",
    "boosted_dt=AdaBoostClassifier(dt,algorithm='SAMME',n_estimators=800,learning_rate=0.5)\n",
    "boosted_dt.fit(x_train,y_train.values.ravel())\n",
    "y_predicted=boosted_dt.predict(x_test)\n",
    "\n",
    "print (\"Area under ROC curve: %f\"%(roc_auc_score(y_test, y_predicted)))"
   ]
  },
  {
   "cell_type": "code",
   "execution_count": 169,
   "id": "051abe83",
   "metadata": {},
   "outputs": [
    {
     "name": "stdout",
     "output_type": "stream",
     "text": [
      "RMSE test set: 0.16\n"
     ]
    }
   ],
   "source": [
    "from sklearn.metrics import mean_squared_error\n",
    "MSE=mean_squared_error\n",
    "dt.fit(x_train,y_train)\n",
    "pred_y = dt.predict(x_test)\n",
    "test_rmse = MSE(y_test, y_pred) ** (1 / 2)\n",
    "print('RMSE test set: {:.2f}'.format(test_rmse))"
   ]
  },
  {
   "cell_type": "markdown",
   "id": "990280cb",
   "metadata": {},
   "source": [
    "# SVM"
   ]
  },
  {
   "cell_type": "code",
   "execution_count": 156,
   "id": "c6be4f08",
   "metadata": {},
   "outputs": [
    {
     "name": "stdout",
     "output_type": "stream",
     "text": [
      "Accuracy using linear svm is : 0.7701333333333333\n"
     ]
    }
   ],
   "source": [
    "from sklearn.svm import SVC\n",
    "svm_linear=SVC(kernel='linear')\n",
    "svm_linear.fit(x_train,y_train)\n",
    "y_pred=svm_linear.predict(x_test)\n",
    "print('Accuracy using linear svm is :',accuracy_score(y_test,y_pred))"
   ]
  },
  {
   "cell_type": "code",
   "execution_count": 157,
   "id": "a30bb2f8",
   "metadata": {},
   "outputs": [
    {
     "name": "stdout",
     "output_type": "stream",
     "text": [
      "RMSE test set: 0.48\n"
     ]
    }
   ],
   "source": [
    "from sklearn.metrics import mean_squared_error\n",
    "MSE=mean_squared_error\n",
    "svm_linear.fit(x_train,y_train)\n",
    "pred_y = svm_linear.predict(x_test)\n",
    "test_rmse = MSE(y_test, y_pred) ** (1 / 2)\n",
    "print('RMSE test set: {:.2f}'.format(test_rmse))"
   ]
  },
  {
   "cell_type": "markdown",
   "id": "7850d0bd",
   "metadata": {},
   "source": [
    "# Fine tuning of hyper parameter"
   ]
  },
  {
   "cell_type": "code",
   "execution_count": 159,
   "id": "7ce049bb",
   "metadata": {},
   "outputs": [],
   "source": [
    "from sklearn.ensemble import GradientBoostingRegressor\n",
    "from sklearn.model_selection import train_test_split\n",
    "from sklearn.metrics import mean_squared_error as MSE\n",
    "from sklearn import datasets"
   ]
  },
  {
   "cell_type": "code",
   "execution_count": 160,
   "id": "92f23d91",
   "metadata": {},
   "outputs": [],
   "source": [
    "# Splitting dataset\n",
    "train_x, test_x, train_y, test_y = train_test_split(x, y, test_size = 0.3, random_state = 42)\n",
    "gbr = GradientBoostingRegressor(n_estimators = 200, max_depth = 1, random_state = 42)"
   ]
  },
  {
   "cell_type": "code",
   "execution_count": 161,
   "id": "141147b8",
   "metadata": {},
   "outputs": [
    {
     "name": "stdout",
     "output_type": "stream",
     "text": [
      "RMSE test set: 0.26\n"
     ]
    }
   ],
   "source": [
    "# Fit to training set\n",
    "gbr.fit(train_x, train_y)\n",
    "  \n",
    "# Predict on test set\n",
    "pred_y = gbr.predict(test_x)\n",
    "  \n",
    "# test set RMSE\n",
    "test_rmse = MSE(test_y, pred_y) ** (1 / 2)\n",
    "  \n",
    "# Print rmse\n",
    "print('RMSE test set: {:.2f}'.format(test_rmse))"
   ]
  },
  {
   "cell_type": "code",
   "execution_count": 162,
   "id": "dc1ba354",
   "metadata": {},
   "outputs": [],
   "source": [
    "#Spilting data into test and train split:\n",
    "x=data.drop(['left'],axis=1)\n",
    "y=data['left']"
   ]
  },
  {
   "cell_type": "code",
   "execution_count": 163,
   "id": "99ed39a8",
   "metadata": {},
   "outputs": [],
   "source": [
    "# splitting the data into train and test\n",
    "from sklearn.model_selection import train_test_split\n",
    "x_train,x_test,y_train,y_test=train_test_split(x,y,test_size=0.25,random_state=42)"
   ]
  },
  {
   "cell_type": "code",
   "execution_count": 164,
   "id": "d5bb3ce4",
   "metadata": {},
   "outputs": [],
   "source": [
    "from sklearn.preprocessing import StandardScaler\n",
    "scaler = StandardScaler()\n",
    "x_train=scaler.fit_transform(x_train)\n",
    "x_test=scaler.fit_transform(x_test)"
   ]
  },
  {
   "cell_type": "markdown",
   "id": "02ecb7c5",
   "metadata": {},
   "source": [
    "# KNN"
   ]
  },
  {
   "cell_type": "code",
   "execution_count": 170,
   "id": "2256ca08",
   "metadata": {},
   "outputs": [],
   "source": [
    "from sklearn.neighbors import KNeighborsClassifier\n",
    "acc_values=[]\n",
    "neighbors=np.arange(3,15)\n",
    "for k in neighbors:\n",
    "    classifier=KNeighborsClassifier(n_neighbors=k)\n",
    "    classifier.fit(x_train,y_train)\n",
    "    y_pred=classifier.predict(x_test)\n",
    "    acc=accuracy_score(y_test,y_pred)\n",
    "    acc_values.append(acc)"
   ]
  },
  {
   "cell_type": "code",
   "execution_count": 171,
   "id": "61fe0945",
   "metadata": {},
   "outputs": [
    {
     "data": {
      "text/plain": [
       "Text(0, 0.5, 'accuracy')"
      ]
     },
     "execution_count": 171,
     "metadata": {},
     "output_type": "execute_result"
    },
    {
     "data": {
      "image/png": "[encoded data removed]",
      "text/plain": [
       "<Figure size 432x288 with 1 Axes>"
      ]
     },
     "metadata": {},
     "output_type": "display_data"
    }
   ],
   "source": [
    "plt.plot(neighbors,acc_values,'-o')\n",
    "plt.xlabel('kvalue')\n",
    "plt.ylabel('accuracy')"
   ]
  },
  {
   "cell_type": "code",
   "execution_count": 172,
   "id": "9976a098",
   "metadata": {},
   "outputs": [],
   "source": [
    "from sklearn.neighbors import KNeighborsClassifier\n",
    "acc_values=[]\n",
    "neighbors=np.arange(3,15)\n",
    "for k in neighbors:\n",
    "    classifier=KNeighborsClassifier(n_neighbors=12)\n",
    "    classifier.fit(x_train,y_train)\n",
    "    y_pred=classifier.predict(x_test)\n",
    "    acc=accuracy_score(y_test,y_pred)\n",
    "    acc_values.append(acc)"
   ]
  },
  {
   "cell_type": "code",
   "execution_count": 173,
   "id": "37ed40d4",
   "metadata": {},
   "outputs": [
    {
     "data": {
      "text/plain": [
       "Text(0, 0.5, 'accuracy')"
      ]
     },
     "execution_count": 173,
     "metadata": {},
     "output_type": "execute_result"
    },
    {
     "data": {
      "image/png": "[encoded data removed]",
      "text/plain": [
       "<Figure size 432x288 with 1 Axes>"
      ]
     },
     "metadata": {},
     "output_type": "display_data"
    }
   ],
   "source": [
    "plt.plot(neighbors,acc_values,'-o')\n",
    "plt.xlabel('kvalue')\n",
    "plt.ylabel('accuracy')"
   ]
  },
  {
   "cell_type": "code",
   "execution_count": 174,
   "id": "1cb7ee12",
   "metadata": {},
   "outputs": [
    {
     "name": "stdout",
     "output_type": "stream",
     "text": [
      "Accuracy is 93.52000000000001\n"
     ]
    }
   ],
   "source": [
    "print('Accuracy is',accuracy_score(y_test,y_pred)*100)"
   ]
  },
  {
   "cell_type": "code",
   "execution_count": 175,
   "id": "4bac860a",
   "metadata": {},
   "outputs": [
    {
     "data": {
      "text/plain": [
       "array([[2737,  116],\n",
       "       [ 127,  770]], dtype=int64)"
      ]
     },
     "execution_count": 175,
     "metadata": {},
     "output_type": "execute_result"
    }
   ],
   "source": [
    "confusion_matrix(y_test,y_pred)"
   ]
  },
  {
   "cell_type": "markdown",
   "id": "0916034d",
   "metadata": {},
   "source": [
    "# Random Forest Classifier"
   ]
  },
  {
   "cell_type": "code",
   "execution_count": 165,
   "id": "69e059f0",
   "metadata": {},
   "outputs": [
    {
     "data": {
      "text/plain": [
       "0.9723320158102767"
      ]
     },
     "execution_count": 165,
     "metadata": {},
     "output_type": "execute_result"
    }
   ],
   "source": [
    "#RandomForestClassifier\n",
    "from sklearn.ensemble import RandomForestClassifier\n",
    "rf=RandomForestClassifier()\n",
    "\n",
    "rf.fit(x_train, np.ravel(y_train))\n",
    "y_pred=rf.predict(x_test)\n",
    "from sklearn.metrics import f1_score,confusion_matrix\n",
    "f1_score(y_test,y_pred)"
   ]
  },
  {
   "cell_type": "code",
   "execution_count": 167,
   "id": "63d44087",
   "metadata": {},
   "outputs": [
    {
     "name": "stdout",
     "output_type": "stream",
     "text": [
      "RMSE test set: 0.17\n"
     ]
    }
   ],
   "source": [
    "gb.fit(x_train,y_train)\n",
    "pred_y = gb.predict(x_test)\n",
    "test_rmse = MSE(y_test, pred_y) ** (1 / 2)\n",
    "print('RMSE test set: {:.2f}'.format(test_rmse))"
   ]
  },
  {
   "cell_type": "markdown",
   "id": "2531e5a9",
   "metadata": {},
   "source": [
    "RandomForestClassification Model has the lowest RMSE and highest accuracy , which tells us that it’s able to fit the dataset the best out of the five potential models"
   ]
  },
  {
   "cell_type": "code",
   "execution_count": null,
   "id": "b31ba596",
   "metadata": {},
   "outputs": [],
   "source": []
  }
 ],
 "metadata": {
  "kernelspec": {
   "display_name": "Python 3",
   "language": "python",
   "name": "python3"
  },
  "language_info": {
   "codemirror_mode": {
    "name": "ipython",
    "version": 3
   },
   "file_extension": ".py",
   "mimetype": "text/x-python",
   "name": "python",
   "nbconvert_exporter": "python",
   "pygments_lexer": "ipython3",
   "version": "3.8.8"
  }
 },
 "nbformat": 4,
 "nbformat_minor": 5
}
